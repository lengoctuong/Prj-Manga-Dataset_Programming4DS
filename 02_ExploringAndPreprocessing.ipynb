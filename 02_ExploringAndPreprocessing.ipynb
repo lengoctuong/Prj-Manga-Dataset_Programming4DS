{
 "cells": [
  {
   "cell_type": "markdown",
   "id": "01991a12",
   "metadata": {},
   "source": [
    "# Khám phá dữ liệu và Tiền xử lý dữ liệu"
   ]
  },
  {
   "cell_type": "markdown",
   "id": "a40edc95",
   "metadata": {},
   "source": [
    "## Các thư viện cần thiết"
   ]
  },
  {
   "cell_type": "code",
   "execution_count": 1,
   "id": "154915f4",
   "metadata": {},
   "outputs": [],
   "source": [
    "import numpy as np\n",
    "import pandas as pd\n",
    "import matplotlib.pyplot as plt\n",
    "import re"
   ]
  },
  {
   "cell_type": "markdown",
   "id": "d89cad95",
   "metadata": {},
   "source": [
    "## Khám phá dữ liệu"
   ]
  },
  {
   "cell_type": "code",
   "execution_count": 6,
   "id": "6ec28345",
   "metadata": {},
   "outputs": [
    {
     "data": {
      "text/html": [
       "<div>\n",
       "<style scoped>\n",
       "    .dataframe tbody tr th:only-of-type {\n",
       "        vertical-align: middle;\n",
       "    }\n",
       "\n",
       "    .dataframe tbody tr th {\n",
       "        vertical-align: top;\n",
       "    }\n",
       "\n",
       "    .dataframe thead th {\n",
       "        text-align: right;\n",
       "    }\n",
       "</style>\n",
       "<table border=\"1\" class=\"dataframe\">\n",
       "  <thead>\n",
       "    <tr style=\"text-align: right;\">\n",
       "      <th></th>\n",
       "      <th>manga_id</th>\n",
       "      <th>title</th>\n",
       "      <th>type</th>\n",
       "      <th>score</th>\n",
       "      <th>scored_by</th>\n",
       "      <th>status</th>\n",
       "      <th>volumes</th>\n",
       "      <th>chapters</th>\n",
       "      <th>start_date</th>\n",
       "      <th>end_date</th>\n",
       "      <th>...</th>\n",
       "      <th>authors</th>\n",
       "      <th>serializations</th>\n",
       "      <th>synopsis</th>\n",
       "      <th>background</th>\n",
       "      <th>main_picture</th>\n",
       "      <th>url</th>\n",
       "      <th>title_english</th>\n",
       "      <th>title_japanese</th>\n",
       "      <th>title_synonyms</th>\n",
       "      <th>jikan</th>\n",
       "    </tr>\n",
       "  </thead>\n",
       "  <tbody>\n",
       "    <tr>\n",
       "      <th>0</th>\n",
       "      <td>2</td>\n",
       "      <td>Berserk</td>\n",
       "      <td>manga</td>\n",
       "      <td>9.45</td>\n",
       "      <td>268737</td>\n",
       "      <td>currently_publishing</td>\n",
       "      <td>NaN</td>\n",
       "      <td>NaN</td>\n",
       "      <td>1989-08-25</td>\n",
       "      <td>NaN</td>\n",
       "      <td>...</td>\n",
       "      <td>[{'id': 1868, 'first_name': 'Kentarou', 'last_...</td>\n",
       "      <td>['Young Animal']</td>\n",
       "      <td>Guts, a former mercenary now known as the \"Bla...</td>\n",
       "      <td>Berserk won the Award for Excellence at the si...</td>\n",
       "      <td>https://cdn.myanimelist.net/images/manga/1/157...</td>\n",
       "      <td>https://myanimelist.net/manga/2/Berserk</td>\n",
       "      <td>Berserk</td>\n",
       "      <td>ベルセルク</td>\n",
       "      <td>['Berserk: The Prototype']</td>\n",
       "      <td>True</td>\n",
       "    </tr>\n",
       "    <tr>\n",
       "      <th>1</th>\n",
       "      <td>13</td>\n",
       "      <td>One Piece</td>\n",
       "      <td>manga</td>\n",
       "      <td>9.20</td>\n",
       "      <td>305917</td>\n",
       "      <td>currently_publishing</td>\n",
       "      <td>NaN</td>\n",
       "      <td>NaN</td>\n",
       "      <td>1997-07-22</td>\n",
       "      <td>NaN</td>\n",
       "      <td>...</td>\n",
       "      <td>[{'id': 1881, 'first_name': 'Eiichiro', 'last_...</td>\n",
       "      <td>['Shounen Jump (Weekly)']</td>\n",
       "      <td>Gol D. Roger, a man referred to as the \"Pirate...</td>\n",
       "      <td>One Piece is the highest selling manga series ...</td>\n",
       "      <td>https://cdn.myanimelist.net/images/manga/2/253...</td>\n",
       "      <td>https://myanimelist.net/manga/13/One_Piece</td>\n",
       "      <td>One Piece</td>\n",
       "      <td>ONE PIECE</td>\n",
       "      <td>[]</td>\n",
       "      <td>True</td>\n",
       "    </tr>\n",
       "    <tr>\n",
       "      <th>2</th>\n",
       "      <td>25</td>\n",
       "      <td>Fullmetal Alchemist</td>\n",
       "      <td>manga</td>\n",
       "      <td>9.05</td>\n",
       "      <td>143879</td>\n",
       "      <td>finished</td>\n",
       "      <td>27.0</td>\n",
       "      <td>116.0</td>\n",
       "      <td>2001-07-12</td>\n",
       "      <td>2010-09-11</td>\n",
       "      <td>...</td>\n",
       "      <td>[{'id': 1874, 'first_name': 'Hiromu', 'last_na...</td>\n",
       "      <td>['Shounen Gangan']</td>\n",
       "      <td>Alchemists are knowledgeable and naturally tal...</td>\n",
       "      <td>Hagane no Renkinjutsushi won the 49th Shogakuk...</td>\n",
       "      <td>https://cdn.myanimelist.net/images/manga/3/243...</td>\n",
       "      <td>https://myanimelist.net/manga/25/Fullmetal_Alc...</td>\n",
       "      <td>Fullmetal Alchemist</td>\n",
       "      <td>鋼の錬金術師</td>\n",
       "      <td>['Full Metal Alchemist', 'Hagane no Renkinjuts...</td>\n",
       "      <td>True</td>\n",
       "    </tr>\n",
       "    <tr>\n",
       "      <th>3</th>\n",
       "      <td>1706</td>\n",
       "      <td>JoJo no Kimyou na Bouken Part 7: Steel Ball Run</td>\n",
       "      <td>manga</td>\n",
       "      <td>9.27</td>\n",
       "      <td>125482</td>\n",
       "      <td>finished</td>\n",
       "      <td>24.0</td>\n",
       "      <td>96.0</td>\n",
       "      <td>2004-01-19</td>\n",
       "      <td>2011-04-19</td>\n",
       "      <td>...</td>\n",
       "      <td>[{'id': 2619, 'first_name': 'Hirohiko', 'last_...</td>\n",
       "      <td>['Ultra Jump']</td>\n",
       "      <td>In the American Old West, the world's greatest...</td>\n",
       "      <td>JoJo no Kimyou na Bouken Part 7: Steel Ball Ru...</td>\n",
       "      <td>https://cdn.myanimelist.net/images/manga/3/179...</td>\n",
       "      <td>https://myanimelist.net/manga/1706/JoJo_no_Kim...</td>\n",
       "      <td>NaN</td>\n",
       "      <td>ジョジョの奇妙な冒険 Part7 STEEL BALL RUN</td>\n",
       "      <td>[\"JoJo's Bizarre Adventure Part 7: Steel Ball ...</td>\n",
       "      <td>True</td>\n",
       "    </tr>\n",
       "    <tr>\n",
       "      <th>4</th>\n",
       "      <td>4632</td>\n",
       "      <td>Oyasumi Punpun</td>\n",
       "      <td>manga</td>\n",
       "      <td>9.03</td>\n",
       "      <td>141146</td>\n",
       "      <td>finished</td>\n",
       "      <td>13.0</td>\n",
       "      <td>147.0</td>\n",
       "      <td>2007-03-15</td>\n",
       "      <td>2013-11-02</td>\n",
       "      <td>...</td>\n",
       "      <td>[{'id': 2836, 'first_name': 'Inio', 'last_name...</td>\n",
       "      <td>['Big Comic Spirits']</td>\n",
       "      <td>Punpun Onodera is a normal 11-year-old boy liv...</td>\n",
       "      <td>Oyasumi Punpun was originally serialized in Yo...</td>\n",
       "      <td>https://cdn.myanimelist.net/images/manga/3/164...</td>\n",
       "      <td>https://myanimelist.net/manga/4632/Oyasumi_Punpun</td>\n",
       "      <td>Goodnight Punpun</td>\n",
       "      <td>おやすみプンプン</td>\n",
       "      <td>[]</td>\n",
       "      <td>True</td>\n",
       "    </tr>\n",
       "  </tbody>\n",
       "</table>\n",
       "<p>5 rows × 31 columns</p>\n",
       "</div>"
      ],
      "text/plain": [
       "   manga_id                                            title   type  score  \\\n",
       "0         2                                          Berserk  manga   9.45   \n",
       "1        13                                        One Piece  manga   9.20   \n",
       "2        25                              Fullmetal Alchemist  manga   9.05   \n",
       "3      1706  JoJo no Kimyou na Bouken Part 7: Steel Ball Run  manga   9.27   \n",
       "4      4632                                   Oyasumi Punpun  manga   9.03   \n",
       "\n",
       "   scored_by                status  volumes  chapters  start_date    end_date  \\\n",
       "0     268737  currently_publishing      NaN       NaN  1989-08-25         NaN   \n",
       "1     305917  currently_publishing      NaN       NaN  1997-07-22         NaN   \n",
       "2     143879              finished     27.0     116.0  2001-07-12  2010-09-11   \n",
       "3     125482              finished     24.0      96.0  2004-01-19  2011-04-19   \n",
       "4     141146              finished     13.0     147.0  2007-03-15  2013-11-02   \n",
       "\n",
       "   ...                                            authors  \\\n",
       "0  ...  [{'id': 1868, 'first_name': 'Kentarou', 'last_...   \n",
       "1  ...  [{'id': 1881, 'first_name': 'Eiichiro', 'last_...   \n",
       "2  ...  [{'id': 1874, 'first_name': 'Hiromu', 'last_na...   \n",
       "3  ...  [{'id': 2619, 'first_name': 'Hirohiko', 'last_...   \n",
       "4  ...  [{'id': 2836, 'first_name': 'Inio', 'last_name...   \n",
       "\n",
       "              serializations  \\\n",
       "0           ['Young Animal']   \n",
       "1  ['Shounen Jump (Weekly)']   \n",
       "2         ['Shounen Gangan']   \n",
       "3             ['Ultra Jump']   \n",
       "4      ['Big Comic Spirits']   \n",
       "\n",
       "                                            synopsis  \\\n",
       "0  Guts, a former mercenary now known as the \"Bla...   \n",
       "1  Gol D. Roger, a man referred to as the \"Pirate...   \n",
       "2  Alchemists are knowledgeable and naturally tal...   \n",
       "3  In the American Old West, the world's greatest...   \n",
       "4  Punpun Onodera is a normal 11-year-old boy liv...   \n",
       "\n",
       "                                          background  \\\n",
       "0  Berserk won the Award for Excellence at the si...   \n",
       "1  One Piece is the highest selling manga series ...   \n",
       "2  Hagane no Renkinjutsushi won the 49th Shogakuk...   \n",
       "3  JoJo no Kimyou na Bouken Part 7: Steel Ball Ru...   \n",
       "4  Oyasumi Punpun was originally serialized in Yo...   \n",
       "\n",
       "                                        main_picture  \\\n",
       "0  https://cdn.myanimelist.net/images/manga/1/157...   \n",
       "1  https://cdn.myanimelist.net/images/manga/2/253...   \n",
       "2  https://cdn.myanimelist.net/images/manga/3/243...   \n",
       "3  https://cdn.myanimelist.net/images/manga/3/179...   \n",
       "4  https://cdn.myanimelist.net/images/manga/3/164...   \n",
       "\n",
       "                                                 url        title_english  \\\n",
       "0            https://myanimelist.net/manga/2/Berserk              Berserk   \n",
       "1         https://myanimelist.net/manga/13/One_Piece            One Piece   \n",
       "2  https://myanimelist.net/manga/25/Fullmetal_Alc...  Fullmetal Alchemist   \n",
       "3  https://myanimelist.net/manga/1706/JoJo_no_Kim...                  NaN   \n",
       "4  https://myanimelist.net/manga/4632/Oyasumi_Punpun     Goodnight Punpun   \n",
       "\n",
       "                    title_japanese  \\\n",
       "0                            ベルセルク   \n",
       "1                        ONE PIECE   \n",
       "2                           鋼の錬金術師   \n",
       "3  ジョジョの奇妙な冒険 Part7 STEEL BALL RUN   \n",
       "4                         おやすみプンプン   \n",
       "\n",
       "                                      title_synonyms jikan  \n",
       "0                         ['Berserk: The Prototype']  True  \n",
       "1                                                 []  True  \n",
       "2  ['Full Metal Alchemist', 'Hagane no Renkinjuts...  True  \n",
       "3  [\"JoJo's Bizarre Adventure Part 7: Steel Ball ...  True  \n",
       "4                                                 []  True  \n",
       "\n",
       "[5 rows x 31 columns]"
      ]
     },
     "execution_count": 6,
     "metadata": {},
     "output_type": "execute_result"
    }
   ],
   "source": [
    "manga_df = pd.read_csv('manga.csv')\n",
    "manga_df.head()"
   ]
  },
  {
   "cell_type": "markdown",
   "id": "44bace8c",
   "metadata": {},
   "source": [
    "#### Dữ liệu có bao nhiêu dòng và cột ?"
   ]
  },
  {
   "cell_type": "code",
   "execution_count": 4,
   "id": "f4e71540",
   "metadata": {},
   "outputs": [
    {
     "data": {
      "text/plain": [
       "(67273, 31)"
      ]
     },
     "execution_count": 4,
     "metadata": {},
     "output_type": "execute_result"
    }
   ],
   "source": [
    "manga_df.shape"
   ]
  },
  {
   "cell_type": "markdown",
   "id": "e5a6948e",
   "metadata": {},
   "source": [
    "Dữ liệu có 67273 dòng và 31 cột"
   ]
  },
  {
   "cell_type": "markdown",
   "id": "040024f8",
   "metadata": {},
   "source": [
    "#### Ý nghĩa của từng dòng là gì ?"
   ]
  },
  {
   "cell_type": "markdown",
   "id": "76378c27",
   "metadata": {},
   "source": [
    "Mỗi dòng là thông tin của một manga"
   ]
  },
  {
   "cell_type": "markdown",
   "id": "992aa9a2",
   "metadata": {},
   "source": [
    "#### Có tồn tại dòng nào bị trùng lắp không ?"
   ]
  },
  {
   "cell_type": "code",
   "execution_count": 5,
   "id": "0d8560e2",
   "metadata": {},
   "outputs": [
    {
     "data": {
      "text/plain": [
       "0"
      ]
     },
     "execution_count": 5,
     "metadata": {},
     "output_type": "execute_result"
    }
   ],
   "source": [
    "np.sum(manga_df.duplicated())"
   ]
  },
  {
   "cell_type": "markdown",
   "id": "e52cc83e",
   "metadata": {},
   "source": [
    "Dữ liệu không có dòng nào trùng lắp"
   ]
  },
  {
   "cell_type": "markdown",
   "id": "c63b7216",
   "metadata": {},
   "source": [
    "#### Ý nghĩa của từng cột là gì ?"
   ]
  },
  {
   "cell_type": "markdown",
   "id": "37caf969",
   "metadata": {},
   "source": [
    "  | Cột               | Ý nghĩa                                                                       |\n",
    "  |-------------------|-------------------------------------------------------------------------------|\n",
    "  |`manga_id`         | ID của manga (mỗi manga có một ID riêng biệt)                                 |\n",
    "  |`title`            | Tựa đề của manga (viết theo phiên âm tiếng Nhật hoặc tiếng Anh)               |\n",
    "  |`type`             | Được phát hành theo dạng nào (truyện tranh, tiểu thuyết,...)                  |\n",
    "  |`score`            | Điểm số trên trang MyAnimeList (MAL)                                          |\n",
    "  |`scored_by`        | Số lượng người dùng đánh giá manga                                            |\n",
    "  |`status`           | Tình trạng (đang phát hành, đã hoàn thành, tạm dừng,...)                      |\n",
    "  |`volumes`          | Số tập                                                                        |\n",
    "  |`chapters`         | Số chương                                                                     |\n",
    "  |`start_date`       | Ngày bắt đầu phát hành                                                        |\n",
    "  |`end_date`         | Ngày kết thúc phát hành                                                       |\n",
    "  |`members`          | Số lượng người dùng có manga này trong list của họ                            |\n",
    "  |`favorites`        | Số lượng người dùng yêu thích manga này                                       |\n",
    "  |`sfw`              | Manga có nhãn 18+ hay không                                                   |\n",
    "  |`approved`         | Manga có được phê duyệt hay chưa                                              |\n",
    "  |`created_at_before`| Ngày trước khi mục của manga này được tạo                                     |\n",
    "  |`updated_at`       | Ngày cập nhật gần đây nhất của manga này                                      |\n",
    "  |`real_start_date`  | Ngày bắt đầu phát hành thật sự                                                |\n",
    "  |`real_end_date`    | Ngày kết thúc phát hành thật sự                                               |\n",
    "  |`genres`           | Thể loại                                                                      |\n",
    "  |`themes`           | Chủ đề                                                                        |\n",
    "  |`demographics`     | Nhân khẩu học                                                                 |\n",
    "  |`authors`          | Tên tác giả                                                                   |\n",
    "  |`serializations`   | Danh sách các tạp chí nơi manga này được đăng lên                             |\n",
    "  |`sypnosis`         | Mô tả                                                                         |\n",
    "  |`background`       | Thông tin thêm                                                                |\n",
    "  |`main_picture`     | URL hình ảnh chính của manga trên MAL                                         |\n",
    "  |`url`              | URL của manga trên MAL                                                        |\n",
    "  |`title_english`    | Tựa đề tiếng Anh của manga                                                    |\n",
    "  |`title_japanese`   | Tựa đề tiếng Nhật của manga                                                   |\n",
    "  |`title_synonyms`   | Danh sách các tựa đề đồng nghĩa                                               |\n",
    "  |`jikan`            | Manga này được scrape từ Jikan API hay API chính thức của MAL                 |"
   ]
  },
  {
   "cell_type": "markdown",
   "id": "77af2278",
   "metadata": {},
   "source": [
    "#### Kiểu dữ liệu hiện tại của từng cột là gì ? Có tồn tại những cột nào có kiểu dữ liệu không phù hợp hay không ?"
   ]
  },
  {
   "cell_type": "code",
   "execution_count": 8,
   "id": "bc59c7a8",
   "metadata": {},
   "outputs": [
    {
     "data": {
      "text/plain": [
       "manga_id               int64\n",
       "title                 object\n",
       "type                  object\n",
       "score                float64\n",
       "scored_by              int64\n",
       "status                object\n",
       "volumes              float64\n",
       "chapters             float64\n",
       "start_date            object\n",
       "end_date              object\n",
       "members                int64\n",
       "favorites              int64\n",
       "sfw                     bool\n",
       "approved                bool\n",
       "created_at_before     object\n",
       "updated_at            object\n",
       "real_start_date       object\n",
       "real_end_date         object\n",
       "genres                object\n",
       "themes                object\n",
       "demographics          object\n",
       "authors               object\n",
       "serializations        object\n",
       "synopsis              object\n",
       "background            object\n",
       "main_picture          object\n",
       "url                   object\n",
       "title_english         object\n",
       "title_japanese        object\n",
       "title_synonyms        object\n",
       "jikan                   bool\n",
       "dtype: object"
      ]
     },
     "execution_count": 8,
     "metadata": {},
     "output_type": "execute_result"
    }
   ],
   "source": [
    "manga_df.dtypes"
   ]
  },
  {
   "cell_type": "markdown",
   "id": "6d41ea8b",
   "metadata": {},
   "source": [
    "- Cột volumes và chapters nên có kiểu dữ liệu số nguyên\n",
    "- Các cột thông tin về ngày tháng (start_date, end_date, created_at_before, updated_at, real_start_date, real_end_date) nên có kiểu dữ liệu thời gian"
   ]
  }
 ],
 "metadata": {
  "kernelspec": {
   "display_name": "Python 3 (ipykernel)",
   "language": "python",
   "name": "python3"
  },
  "language_info": {
   "codemirror_mode": {
    "name": "ipython",
    "version": 3
   },
   "file_extension": ".py",
   "mimetype": "text/x-python",
   "name": "python",
   "nbconvert_exporter": "python",
   "pygments_lexer": "ipython3",
   "version": "3.8.8"
  }
 },
 "nbformat": 4,
 "nbformat_minor": 5
}
