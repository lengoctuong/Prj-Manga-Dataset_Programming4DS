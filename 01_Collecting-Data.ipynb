{
 "cells": [
  {
   "cell_type": "markdown",
   "id": "a61968b2",
   "metadata": {},
   "source": [
    "# Collecting Data"
   ]
  },
  {
   "cell_type": "markdown",
   "id": "4d8595a9",
   "metadata": {},
   "source": [
    "### **_01. Chủ đề và nguồn thu thập dữ liệu:_**"
   ]
  },
  {
   "cell_type": "markdown",
   "id": "4dfe7e6c",
   "metadata": {},
   "source": [
    "- Bộ dữ liệu MyAnimeList Manga chứa thông tin của 67.273 bộ truyện (cập nhật lần cuối vào ngày 25 tháng 7 năm 2022).\n",
    "- Datasets này chứa dữ liệu từ MyAnimeList (MAL) được scrape từ official API và Jikan API. Và nhóm em download từ datasets trên [kaggle](https://www.kaggle.com/datasets/andreuvallhernndez/myanimelist?select=manga.csv)."
   ]
  },
  {
   "cell_type": "markdown",
   "id": "f61af140",
   "metadata": {},
   "source": [
    "### **_02. License và Copyright:_**"
   ]
  },
  {
   "cell_type": "markdown",
   "id": "def735e8",
   "metadata": {},
   "source": [
    "- Tác giả: [Andreu Vall Hernàndez](https://www.kaggle.com/andreuvallhernndez) (Owner).\n",
    "- License: [CC0: Public Domain](https://creativecommons.org/publicdomain/zero/1.0/) nguồn này là public và no copyright vì vậy nhóm em có thể sao chép, sửa đổi và phân phối."
   ]
  },
  {
   "cell_type": "markdown",
   "id": "1b68a966",
   "metadata": {},
   "source": [
    "### **_03. Cách tác giả thu thập dữ liệu:_**"
   ]
  },
  {
   "cell_type": "markdown",
   "id": "c3a4b58c",
   "metadata": {},
   "source": [
    "- Tác giả thu thập dữ liệu từ [official API](https://api.myanimelist.net/v2/manga) của MyAnimeList và [Jikan API](https://docs.api.jikan.moe/). Official API luôn chứa dữ liệu mới, rất nhanh để scrape và có một số thông tin mà trên Jikan API không có, tuy nhiên vẫn có một số thuộc tính bị miss và chỉ có từ Jikan API.\n",
    "- Cách scrape: với official API sử dụng /manga/ranking endpoints.\n",
    "- Với Official API có 500 entries trên mỗi lần gọi API và 25 đối với Jikan API vì vậy việc scrape nhanh và được thực hiện hàng tuần.\n",
    "- Thời gian scrape trên official API tốn 10' và 55' đối với Jikan API.\n",
    "- Datasets này chứa dữ liệu hầu hết đã được làm sạch và có thể scrape rất nhanh. Nhưng một số dữ liệu không có như nhân vật và thông tin chi tiết của tác giả (những dữ liệu đó có thể tham khảo [ở đây](https://www.kaggle.com/datasets/andreuvallhernndez/myanimelist-jikan)."
   ]
  }
 ],
 "metadata": {
  "kernelspec": {
   "display_name": "Python 3 (ipykernel)",
   "language": "python",
   "name": "python3"
  },
  "language_info": {
   "codemirror_mode": {
    "name": "ipython",
    "version": 3
   },
   "file_extension": ".py",
   "mimetype": "text/x-python",
   "name": "python",
   "nbconvert_exporter": "python",
   "pygments_lexer": "ipython3",
   "version": "3.10.6"
  }
 },
 "nbformat": 4,
 "nbformat_minor": 5
}
