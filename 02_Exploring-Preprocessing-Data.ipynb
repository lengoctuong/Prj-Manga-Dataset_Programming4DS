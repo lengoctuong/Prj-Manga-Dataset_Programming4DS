{
 "cells": [
  {
   "cell_type": "markdown",
   "id": "01991a12",
   "metadata": {},
   "source": [
    "# Exploring and Pre-processing Data"
   ]
  },
  {
   "cell_type": "markdown",
   "id": "a40edc95",
   "metadata": {},
   "source": [
    "## Các thư viện cần thiết"
   ]
  },
  {
   "cell_type": "code",
   "execution_count": 1,
   "id": "154915f4",
   "metadata": {},
   "outputs": [],
   "source": [
    "import ast\n",
    "import numpy as np\n",
    "import pandas as pd\n",
    "import matplotlib.pyplot as plt\n",
    "import seaborn as sns\n",
    "import re"
   ]
  },
  {
   "cell_type": "markdown",
   "id": "0448e343",
   "metadata": {},
   "source": [
    "---"
   ]
  },
  {
   "cell_type": "markdown",
   "id": "d89cad95",
   "metadata": {},
   "source": [
    "## **_01. Exploring Data:_**"
   ]
  },
  {
   "cell_type": "code",
   "execution_count": 2,
   "id": "6ec28345",
   "metadata": {
    "scrolled": true
   },
   "outputs": [
    {
     "data": {
      "text/html": [
       "<div>\n",
       "<style scoped>\n",
       "    .dataframe tbody tr th:only-of-type {\n",
       "        vertical-align: middle;\n",
       "    }\n",
       "\n",
       "    .dataframe tbody tr th {\n",
       "        vertical-align: top;\n",
       "    }\n",
       "\n",
       "    .dataframe thead th {\n",
       "        text-align: right;\n",
       "    }\n",
       "</style>\n",
       "<table border=\"1\" class=\"dataframe\">\n",
       "  <thead>\n",
       "    <tr style=\"text-align: right;\">\n",
       "      <th></th>\n",
       "      <th>manga_id</th>\n",
       "      <th>title</th>\n",
       "      <th>type</th>\n",
       "      <th>score</th>\n",
       "      <th>scored_by</th>\n",
       "      <th>status</th>\n",
       "      <th>volumes</th>\n",
       "      <th>chapters</th>\n",
       "      <th>start_date</th>\n",
       "      <th>end_date</th>\n",
       "      <th>members</th>\n",
       "      <th>favorites</th>\n",
       "      <th>sfw</th>\n",
       "      <th>approved</th>\n",
       "      <th>created_at_before</th>\n",
       "      <th>updated_at</th>\n",
       "      <th>real_start_date</th>\n",
       "      <th>real_end_date</th>\n",
       "      <th>genres</th>\n",
       "      <th>themes</th>\n",
       "      <th>demographics</th>\n",
       "      <th>authors</th>\n",
       "      <th>serializations</th>\n",
       "      <th>synopsis</th>\n",
       "      <th>background</th>\n",
       "      <th>main_picture</th>\n",
       "      <th>url</th>\n",
       "      <th>title_english</th>\n",
       "      <th>title_japanese</th>\n",
       "      <th>title_synonyms</th>\n",
       "      <th>jikan</th>\n",
       "    </tr>\n",
       "  </thead>\n",
       "  <tbody>\n",
       "    <tr>\n",
       "      <th>0</th>\n",
       "      <td>2</td>\n",
       "      <td>Berserk</td>\n",
       "      <td>manga</td>\n",
       "      <td>9.45</td>\n",
       "      <td>268737</td>\n",
       "      <td>currently_publishing</td>\n",
       "      <td>NaN</td>\n",
       "      <td>NaN</td>\n",
       "      <td>1989-08-25</td>\n",
       "      <td>NaN</td>\n",
       "      <td>551266</td>\n",
       "      <td>103820</td>\n",
       "      <td>True</td>\n",
       "      <td>True</td>\n",
       "      <td>2007-07-17 20:14:45+00:00</td>\n",
       "      <td>2022-06-23 08:30:44+00:00</td>\n",
       "      <td>1989-08-25</td>\n",
       "      <td>NaN</td>\n",
       "      <td>['Action', 'Adventure', 'Award Winning', 'Dram...</td>\n",
       "      <td>['Gore', 'Military', 'Mythology', 'Psychologic...</td>\n",
       "      <td>['Seinen']</td>\n",
       "      <td>[{'id': 1868, 'first_name': 'Kentarou', 'last_...</td>\n",
       "      <td>['Young Animal']</td>\n",
       "      <td>Guts, a former mercenary now known as the \"Bla...</td>\n",
       "      <td>Berserk won the Award for Excellence at the si...</td>\n",
       "      <td>https://cdn.myanimelist.net/images/manga/1/157...</td>\n",
       "      <td>https://myanimelist.net/manga/2/Berserk</td>\n",
       "      <td>Berserk</td>\n",
       "      <td>ベルセルク</td>\n",
       "      <td>['Berserk: The Prototype']</td>\n",
       "      <td>True</td>\n",
       "    </tr>\n",
       "    <tr>\n",
       "      <th>1</th>\n",
       "      <td>13</td>\n",
       "      <td>One Piece</td>\n",
       "      <td>manga</td>\n",
       "      <td>9.20</td>\n",
       "      <td>305917</td>\n",
       "      <td>currently_publishing</td>\n",
       "      <td>NaN</td>\n",
       "      <td>NaN</td>\n",
       "      <td>1997-07-22</td>\n",
       "      <td>NaN</td>\n",
       "      <td>501291</td>\n",
       "      <td>99526</td>\n",
       "      <td>True</td>\n",
       "      <td>True</td>\n",
       "      <td>2007-07-17 20:14:45+00:00</td>\n",
       "      <td>2022-04-18 04:48:35+00:00</td>\n",
       "      <td>1997-07-22</td>\n",
       "      <td>NaN</td>\n",
       "      <td>['Action', 'Adventure', 'Fantasy']</td>\n",
       "      <td>[]</td>\n",
       "      <td>['Shounen']</td>\n",
       "      <td>[{'id': 1881, 'first_name': 'Eiichiro', 'last_...</td>\n",
       "      <td>['Shounen Jump (Weekly)']</td>\n",
       "      <td>Gol D. Roger, a man referred to as the \"Pirate...</td>\n",
       "      <td>One Piece is the highest selling manga series ...</td>\n",
       "      <td>https://cdn.myanimelist.net/images/manga/2/253...</td>\n",
       "      <td>https://myanimelist.net/manga/13/One_Piece</td>\n",
       "      <td>One Piece</td>\n",
       "      <td>ONE PIECE</td>\n",
       "      <td>[]</td>\n",
       "      <td>True</td>\n",
       "    </tr>\n",
       "    <tr>\n",
       "      <th>2</th>\n",
       "      <td>25</td>\n",
       "      <td>Fullmetal Alchemist</td>\n",
       "      <td>manga</td>\n",
       "      <td>9.05</td>\n",
       "      <td>143879</td>\n",
       "      <td>finished</td>\n",
       "      <td>27.0</td>\n",
       "      <td>116.0</td>\n",
       "      <td>2001-07-12</td>\n",
       "      <td>2010-09-11</td>\n",
       "      <td>264571</td>\n",
       "      <td>28519</td>\n",
       "      <td>True</td>\n",
       "      <td>True</td>\n",
       "      <td>2007-07-17 20:14:45+00:00</td>\n",
       "      <td>2022-06-13 18:46:09+00:00</td>\n",
       "      <td>2001-07-12</td>\n",
       "      <td>2010-09-11</td>\n",
       "      <td>['Action', 'Adventure', 'Award Winning', 'Dram...</td>\n",
       "      <td>['Military']</td>\n",
       "      <td>['Shounen']</td>\n",
       "      <td>[{'id': 1874, 'first_name': 'Hiromu', 'last_na...</td>\n",
       "      <td>['Shounen Gangan']</td>\n",
       "      <td>Alchemists are knowledgeable and naturally tal...</td>\n",
       "      <td>Hagane no Renkinjutsushi won the 49th Shogakuk...</td>\n",
       "      <td>https://cdn.myanimelist.net/images/manga/3/243...</td>\n",
       "      <td>https://myanimelist.net/manga/25/Fullmetal_Alc...</td>\n",
       "      <td>Fullmetal Alchemist</td>\n",
       "      <td>鋼の錬金術師</td>\n",
       "      <td>['Full Metal Alchemist', 'Hagane no Renkinjuts...</td>\n",
       "      <td>True</td>\n",
       "    </tr>\n",
       "    <tr>\n",
       "      <th>3</th>\n",
       "      <td>1706</td>\n",
       "      <td>JoJo no Kimyou na Bouken Part 7: Steel Ball Run</td>\n",
       "      <td>manga</td>\n",
       "      <td>9.27</td>\n",
       "      <td>125482</td>\n",
       "      <td>finished</td>\n",
       "      <td>24.0</td>\n",
       "      <td>96.0</td>\n",
       "      <td>2004-01-19</td>\n",
       "      <td>2011-04-19</td>\n",
       "      <td>209123</td>\n",
       "      <td>35456</td>\n",
       "      <td>True</td>\n",
       "      <td>True</td>\n",
       "      <td>2007-10-07 08:14:20+00:00</td>\n",
       "      <td>2022-04-18 04:02:35+00:00</td>\n",
       "      <td>2004-01-19</td>\n",
       "      <td>2011-04-19</td>\n",
       "      <td>['Action', 'Adventure', 'Horror', 'Mystery', '...</td>\n",
       "      <td>['Historical']</td>\n",
       "      <td>['Seinen', 'Shounen']</td>\n",
       "      <td>[{'id': 2619, 'first_name': 'Hirohiko', 'last_...</td>\n",
       "      <td>['Ultra Jump']</td>\n",
       "      <td>In the American Old West, the world's greatest...</td>\n",
       "      <td>JoJo no Kimyou na Bouken Part 7: Steel Ball Ru...</td>\n",
       "      <td>https://cdn.myanimelist.net/images/manga/3/179...</td>\n",
       "      <td>https://myanimelist.net/manga/1706/JoJo_no_Kim...</td>\n",
       "      <td>NaN</td>\n",
       "      <td>ジョジョの奇妙な冒険 Part7 STEEL BALL RUN</td>\n",
       "      <td>[\"JoJo's Bizarre Adventure Part 7: Steel Ball ...</td>\n",
       "      <td>True</td>\n",
       "    </tr>\n",
       "    <tr>\n",
       "      <th>4</th>\n",
       "      <td>4632</td>\n",
       "      <td>Oyasumi Punpun</td>\n",
       "      <td>manga</td>\n",
       "      <td>9.03</td>\n",
       "      <td>141146</td>\n",
       "      <td>finished</td>\n",
       "      <td>13.0</td>\n",
       "      <td>147.0</td>\n",
       "      <td>2007-03-15</td>\n",
       "      <td>2013-11-02</td>\n",
       "      <td>354176</td>\n",
       "      <td>43168</td>\n",
       "      <td>True</td>\n",
       "      <td>True</td>\n",
       "      <td>2008-02-03 15:54:30+00:00</td>\n",
       "      <td>2022-04-18 04:47:05+00:00</td>\n",
       "      <td>2007-03-15</td>\n",
       "      <td>2013-11-02</td>\n",
       "      <td>['Drama', 'Slice of Life']</td>\n",
       "      <td>['Psychological']</td>\n",
       "      <td>['Seinen']</td>\n",
       "      <td>[{'id': 2836, 'first_name': 'Inio', 'last_name...</td>\n",
       "      <td>['Big Comic Spirits']</td>\n",
       "      <td>Punpun Onodera is a normal 11-year-old boy liv...</td>\n",
       "      <td>Oyasumi Punpun was originally serialized in Yo...</td>\n",
       "      <td>https://cdn.myanimelist.net/images/manga/3/164...</td>\n",
       "      <td>https://myanimelist.net/manga/4632/Oyasumi_Punpun</td>\n",
       "      <td>Goodnight Punpun</td>\n",
       "      <td>おやすみプンプン</td>\n",
       "      <td>[]</td>\n",
       "      <td>True</td>\n",
       "    </tr>\n",
       "    <tr>\n",
       "      <th>...</th>\n",
       "      <td>...</td>\n",
       "      <td>...</td>\n",
       "      <td>...</td>\n",
       "      <td>...</td>\n",
       "      <td>...</td>\n",
       "      <td>...</td>\n",
       "      <td>...</td>\n",
       "      <td>...</td>\n",
       "      <td>...</td>\n",
       "      <td>...</td>\n",
       "      <td>...</td>\n",
       "      <td>...</td>\n",
       "      <td>...</td>\n",
       "      <td>...</td>\n",
       "      <td>...</td>\n",
       "      <td>...</td>\n",
       "      <td>...</td>\n",
       "      <td>...</td>\n",
       "      <td>...</td>\n",
       "      <td>...</td>\n",
       "      <td>...</td>\n",
       "      <td>...</td>\n",
       "      <td>...</td>\n",
       "      <td>...</td>\n",
       "      <td>...</td>\n",
       "      <td>...</td>\n",
       "      <td>...</td>\n",
       "      <td>...</td>\n",
       "      <td>...</td>\n",
       "      <td>...</td>\n",
       "      <td>...</td>\n",
       "    </tr>\n",
       "    <tr>\n",
       "      <th>67268</th>\n",
       "      <td>149662</td>\n",
       "      <td>Scary Campus College University</td>\n",
       "      <td>manga</td>\n",
       "      <td>NaN</td>\n",
       "      <td>0</td>\n",
       "      <td>currently_publishing</td>\n",
       "      <td>NaN</td>\n",
       "      <td>NaN</td>\n",
       "      <td>2022-07-25</td>\n",
       "      <td>NaN</td>\n",
       "      <td>0</td>\n",
       "      <td>0</td>\n",
       "      <td>True</td>\n",
       "      <td>False</td>\n",
       "      <td>2022-07-25 00:02:54+00:00</td>\n",
       "      <td>NaN</td>\n",
       "      <td>2022-07-25</td>\n",
       "      <td>NaN</td>\n",
       "      <td>['Horror', 'Supernatural', 'Suspense']</td>\n",
       "      <td>[]</td>\n",
       "      <td>['Seinen']</td>\n",
       "      <td>[]</td>\n",
       "      <td>[]</td>\n",
       "      <td>NaN</td>\n",
       "      <td>NaN</td>\n",
       "      <td>https://cdn.myanimelist.net/images/manga/1/265...</td>\n",
       "      <td>https://myanimelist.net/manga/149662</td>\n",
       "      <td>NaN</td>\n",
       "      <td>スケアリー・キャンパス・カレッジ・ユニバーシティ</td>\n",
       "      <td>[]</td>\n",
       "      <td>False</td>\n",
       "    </tr>\n",
       "    <tr>\n",
       "      <th>67269</th>\n",
       "      <td>149663</td>\n",
       "      <td>Dorei Tensei: Sono Dorei, Saikyou no Moto Ouji...</td>\n",
       "      <td>light_novel</td>\n",
       "      <td>NaN</td>\n",
       "      <td>0</td>\n",
       "      <td>currently_publishing</td>\n",
       "      <td>NaN</td>\n",
       "      <td>NaN</td>\n",
       "      <td>2020-09-30</td>\n",
       "      <td>NaN</td>\n",
       "      <td>0</td>\n",
       "      <td>0</td>\n",
       "      <td>True</td>\n",
       "      <td>False</td>\n",
       "      <td>2022-07-25 00:02:54+00:00</td>\n",
       "      <td>NaN</td>\n",
       "      <td>2020-09-30</td>\n",
       "      <td>NaN</td>\n",
       "      <td>['Action', 'Adventure', 'Fantasy']</td>\n",
       "      <td>[]</td>\n",
       "      <td>[]</td>\n",
       "      <td>[]</td>\n",
       "      <td>[]</td>\n",
       "      <td>Ars, the prince of the Kingdom of Karitz, who ...</td>\n",
       "      <td>NaN</td>\n",
       "      <td>https://cdn.myanimelist.net/images/manga/3/265...</td>\n",
       "      <td>https://myanimelist.net/manga/149663</td>\n",
       "      <td>NaN</td>\n",
       "      <td>奴隷転生 ～その奴隷、最強の元王子につき～</td>\n",
       "      <td>['The Prince Reincarnated Into Slavery to Make...</td>\n",
       "      <td>False</td>\n",
       "    </tr>\n",
       "    <tr>\n",
       "      <th>67270</th>\n",
       "      <td>149664</td>\n",
       "      <td>To Have You Once Again</td>\n",
       "      <td>manhua</td>\n",
       "      <td>NaN</td>\n",
       "      <td>0</td>\n",
       "      <td>currently_publishing</td>\n",
       "      <td>NaN</td>\n",
       "      <td>NaN</td>\n",
       "      <td>NaN</td>\n",
       "      <td>NaN</td>\n",
       "      <td>0</td>\n",
       "      <td>0</td>\n",
       "      <td>True</td>\n",
       "      <td>False</td>\n",
       "      <td>2022-07-25 00:02:54+00:00</td>\n",
       "      <td>NaN</td>\n",
       "      <td>NaN</td>\n",
       "      <td>NaN</td>\n",
       "      <td>['Boys Love', 'Fantasy', 'Romance']</td>\n",
       "      <td>['Historical', 'Reincarnation']</td>\n",
       "      <td>[]</td>\n",
       "      <td>[]</td>\n",
       "      <td>[]</td>\n",
       "      <td>Mu Qingyi died in order to save the people of ...</td>\n",
       "      <td>NaN</td>\n",
       "      <td>https://cdn.myanimelist.net/images/manga/2/265...</td>\n",
       "      <td>https://myanimelist.net/manga/149664</td>\n",
       "      <td>To Have You Once Again</td>\n",
       "      <td>NaN</td>\n",
       "      <td>[]</td>\n",
       "      <td>False</td>\n",
       "    </tr>\n",
       "    <tr>\n",
       "      <th>67271</th>\n",
       "      <td>149666</td>\n",
       "      <td>兄だったモノ</td>\n",
       "      <td>manga</td>\n",
       "      <td>NaN</td>\n",
       "      <td>0</td>\n",
       "      <td>currently_publishing</td>\n",
       "      <td>NaN</td>\n",
       "      <td>NaN</td>\n",
       "      <td>2021-05-27</td>\n",
       "      <td>NaN</td>\n",
       "      <td>0</td>\n",
       "      <td>0</td>\n",
       "      <td>True</td>\n",
       "      <td>False</td>\n",
       "      <td>2022-07-25 17:32:10.227761+00:00</td>\n",
       "      <td>NaN</td>\n",
       "      <td>2021-05-27</td>\n",
       "      <td>NaN</td>\n",
       "      <td>['Boys Love', 'Drama', 'Horror', 'Romance', 'S...</td>\n",
       "      <td>['Psychological']</td>\n",
       "      <td>['Seinen']</td>\n",
       "      <td>[]</td>\n",
       "      <td>[]</td>\n",
       "      <td>This is a story of my brother's lover and me a...</td>\n",
       "      <td>NaN</td>\n",
       "      <td>https://cdn.myanimelist.net/images/manga/3/265...</td>\n",
       "      <td>https://myanimelist.net/manga/149666</td>\n",
       "      <td>He Was My Brother</td>\n",
       "      <td>Ani datta Mono</td>\n",
       "      <td>['Ani datta Mono', 'He Was My Brother']</td>\n",
       "      <td>False</td>\n",
       "    </tr>\n",
       "    <tr>\n",
       "      <th>67272</th>\n",
       "      <td>149667</td>\n",
       "      <td>Utsukushii Kare</td>\n",
       "      <td>manga</td>\n",
       "      <td>NaN</td>\n",
       "      <td>0</td>\n",
       "      <td>finished</td>\n",
       "      <td>1.0</td>\n",
       "      <td>4.0</td>\n",
       "      <td>NaN</td>\n",
       "      <td>NaN</td>\n",
       "      <td>0</td>\n",
       "      <td>0</td>\n",
       "      <td>True</td>\n",
       "      <td>False</td>\n",
       "      <td>2022-07-25 17:32:10.227761+00:00</td>\n",
       "      <td>NaN</td>\n",
       "      <td>NaN</td>\n",
       "      <td>NaN</td>\n",
       "      <td>['Boys Love']</td>\n",
       "      <td>[]</td>\n",
       "      <td>[]</td>\n",
       "      <td>[]</td>\n",
       "      <td>[]</td>\n",
       "      <td>High schooler at the bottom of the social ladd...</td>\n",
       "      <td>NaN</td>\n",
       "      <td>https://cdn.myanimelist.net/images/manga/3/265...</td>\n",
       "      <td>https://myanimelist.net/manga/149667</td>\n",
       "      <td>NaN</td>\n",
       "      <td>美しい彼</td>\n",
       "      <td>[]</td>\n",
       "      <td>False</td>\n",
       "    </tr>\n",
       "  </tbody>\n",
       "</table>\n",
       "<p>67273 rows × 31 columns</p>\n",
       "</div>"
      ],
      "text/plain": [
       "       manga_id                                              title  \\\n",
       "0             2                                            Berserk   \n",
       "1            13                                          One Piece   \n",
       "2            25                                Fullmetal Alchemist   \n",
       "3          1706    JoJo no Kimyou na Bouken Part 7: Steel Ball Run   \n",
       "4          4632                                     Oyasumi Punpun   \n",
       "...         ...                                                ...   \n",
       "67268    149662                    Scary Campus College University   \n",
       "67269    149663  Dorei Tensei: Sono Dorei, Saikyou no Moto Ouji...   \n",
       "67270    149664                             To Have You Once Again   \n",
       "67271    149666                                             兄だったモノ   \n",
       "67272    149667                                    Utsukushii Kare   \n",
       "\n",
       "              type  score  scored_by                status  volumes  chapters  \\\n",
       "0            manga   9.45     268737  currently_publishing      NaN       NaN   \n",
       "1            manga   9.20     305917  currently_publishing      NaN       NaN   \n",
       "2            manga   9.05     143879              finished     27.0     116.0   \n",
       "3            manga   9.27     125482              finished     24.0      96.0   \n",
       "4            manga   9.03     141146              finished     13.0     147.0   \n",
       "...            ...    ...        ...                   ...      ...       ...   \n",
       "67268        manga    NaN          0  currently_publishing      NaN       NaN   \n",
       "67269  light_novel    NaN          0  currently_publishing      NaN       NaN   \n",
       "67270       manhua    NaN          0  currently_publishing      NaN       NaN   \n",
       "67271        manga    NaN          0  currently_publishing      NaN       NaN   \n",
       "67272        manga    NaN          0              finished      1.0       4.0   \n",
       "\n",
       "       start_date    end_date  members  favorites   sfw  approved  \\\n",
       "0      1989-08-25         NaN   551266     103820  True      True   \n",
       "1      1997-07-22         NaN   501291      99526  True      True   \n",
       "2      2001-07-12  2010-09-11   264571      28519  True      True   \n",
       "3      2004-01-19  2011-04-19   209123      35456  True      True   \n",
       "4      2007-03-15  2013-11-02   354176      43168  True      True   \n",
       "...           ...         ...      ...        ...   ...       ...   \n",
       "67268  2022-07-25         NaN        0          0  True     False   \n",
       "67269  2020-09-30         NaN        0          0  True     False   \n",
       "67270         NaN         NaN        0          0  True     False   \n",
       "67271  2021-05-27         NaN        0          0  True     False   \n",
       "67272         NaN         NaN        0          0  True     False   \n",
       "\n",
       "                      created_at_before                 updated_at  \\\n",
       "0             2007-07-17 20:14:45+00:00  2022-06-23 08:30:44+00:00   \n",
       "1             2007-07-17 20:14:45+00:00  2022-04-18 04:48:35+00:00   \n",
       "2             2007-07-17 20:14:45+00:00  2022-06-13 18:46:09+00:00   \n",
       "3             2007-10-07 08:14:20+00:00  2022-04-18 04:02:35+00:00   \n",
       "4             2008-02-03 15:54:30+00:00  2022-04-18 04:47:05+00:00   \n",
       "...                                 ...                        ...   \n",
       "67268         2022-07-25 00:02:54+00:00                        NaN   \n",
       "67269         2022-07-25 00:02:54+00:00                        NaN   \n",
       "67270         2022-07-25 00:02:54+00:00                        NaN   \n",
       "67271  2022-07-25 17:32:10.227761+00:00                        NaN   \n",
       "67272  2022-07-25 17:32:10.227761+00:00                        NaN   \n",
       "\n",
       "      real_start_date real_end_date  \\\n",
       "0          1989-08-25           NaN   \n",
       "1          1997-07-22           NaN   \n",
       "2          2001-07-12    2010-09-11   \n",
       "3          2004-01-19    2011-04-19   \n",
       "4          2007-03-15    2013-11-02   \n",
       "...               ...           ...   \n",
       "67268      2022-07-25           NaN   \n",
       "67269      2020-09-30           NaN   \n",
       "67270             NaN           NaN   \n",
       "67271      2021-05-27           NaN   \n",
       "67272             NaN           NaN   \n",
       "\n",
       "                                                  genres  \\\n",
       "0      ['Action', 'Adventure', 'Award Winning', 'Dram...   \n",
       "1                     ['Action', 'Adventure', 'Fantasy']   \n",
       "2      ['Action', 'Adventure', 'Award Winning', 'Dram...   \n",
       "3      ['Action', 'Adventure', 'Horror', 'Mystery', '...   \n",
       "4                             ['Drama', 'Slice of Life']   \n",
       "...                                                  ...   \n",
       "67268             ['Horror', 'Supernatural', 'Suspense']   \n",
       "67269                 ['Action', 'Adventure', 'Fantasy']   \n",
       "67270                ['Boys Love', 'Fantasy', 'Romance']   \n",
       "67271  ['Boys Love', 'Drama', 'Horror', 'Romance', 'S...   \n",
       "67272                                      ['Boys Love']   \n",
       "\n",
       "                                                  themes  \\\n",
       "0      ['Gore', 'Military', 'Mythology', 'Psychologic...   \n",
       "1                                                     []   \n",
       "2                                           ['Military']   \n",
       "3                                         ['Historical']   \n",
       "4                                      ['Psychological']   \n",
       "...                                                  ...   \n",
       "67268                                                 []   \n",
       "67269                                                 []   \n",
       "67270                    ['Historical', 'Reincarnation']   \n",
       "67271                                  ['Psychological']   \n",
       "67272                                                 []   \n",
       "\n",
       "                demographics  \\\n",
       "0                 ['Seinen']   \n",
       "1                ['Shounen']   \n",
       "2                ['Shounen']   \n",
       "3      ['Seinen', 'Shounen']   \n",
       "4                 ['Seinen']   \n",
       "...                      ...   \n",
       "67268             ['Seinen']   \n",
       "67269                     []   \n",
       "67270                     []   \n",
       "67271             ['Seinen']   \n",
       "67272                     []   \n",
       "\n",
       "                                                 authors  \\\n",
       "0      [{'id': 1868, 'first_name': 'Kentarou', 'last_...   \n",
       "1      [{'id': 1881, 'first_name': 'Eiichiro', 'last_...   \n",
       "2      [{'id': 1874, 'first_name': 'Hiromu', 'last_na...   \n",
       "3      [{'id': 2619, 'first_name': 'Hirohiko', 'last_...   \n",
       "4      [{'id': 2836, 'first_name': 'Inio', 'last_name...   \n",
       "...                                                  ...   \n",
       "67268                                                 []   \n",
       "67269                                                 []   \n",
       "67270                                                 []   \n",
       "67271                                                 []   \n",
       "67272                                                 []   \n",
       "\n",
       "                  serializations  \\\n",
       "0               ['Young Animal']   \n",
       "1      ['Shounen Jump (Weekly)']   \n",
       "2             ['Shounen Gangan']   \n",
       "3                 ['Ultra Jump']   \n",
       "4          ['Big Comic Spirits']   \n",
       "...                          ...   \n",
       "67268                         []   \n",
       "67269                         []   \n",
       "67270                         []   \n",
       "67271                         []   \n",
       "67272                         []   \n",
       "\n",
       "                                                synopsis  \\\n",
       "0      Guts, a former mercenary now known as the \"Bla...   \n",
       "1      Gol D. Roger, a man referred to as the \"Pirate...   \n",
       "2      Alchemists are knowledgeable and naturally tal...   \n",
       "3      In the American Old West, the world's greatest...   \n",
       "4      Punpun Onodera is a normal 11-year-old boy liv...   \n",
       "...                                                  ...   \n",
       "67268                                                NaN   \n",
       "67269  Ars, the prince of the Kingdom of Karitz, who ...   \n",
       "67270  Mu Qingyi died in order to save the people of ...   \n",
       "67271  This is a story of my brother's lover and me a...   \n",
       "67272  High schooler at the bottom of the social ladd...   \n",
       "\n",
       "                                              background  \\\n",
       "0      Berserk won the Award for Excellence at the si...   \n",
       "1      One Piece is the highest selling manga series ...   \n",
       "2      Hagane no Renkinjutsushi won the 49th Shogakuk...   \n",
       "3      JoJo no Kimyou na Bouken Part 7: Steel Ball Ru...   \n",
       "4      Oyasumi Punpun was originally serialized in Yo...   \n",
       "...                                                  ...   \n",
       "67268                                                NaN   \n",
       "67269                                                NaN   \n",
       "67270                                                NaN   \n",
       "67271                                                NaN   \n",
       "67272                                                NaN   \n",
       "\n",
       "                                            main_picture  \\\n",
       "0      https://cdn.myanimelist.net/images/manga/1/157...   \n",
       "1      https://cdn.myanimelist.net/images/manga/2/253...   \n",
       "2      https://cdn.myanimelist.net/images/manga/3/243...   \n",
       "3      https://cdn.myanimelist.net/images/manga/3/179...   \n",
       "4      https://cdn.myanimelist.net/images/manga/3/164...   \n",
       "...                                                  ...   \n",
       "67268  https://cdn.myanimelist.net/images/manga/1/265...   \n",
       "67269  https://cdn.myanimelist.net/images/manga/3/265...   \n",
       "67270  https://cdn.myanimelist.net/images/manga/2/265...   \n",
       "67271  https://cdn.myanimelist.net/images/manga/3/265...   \n",
       "67272  https://cdn.myanimelist.net/images/manga/3/265...   \n",
       "\n",
       "                                                     url  \\\n",
       "0                https://myanimelist.net/manga/2/Berserk   \n",
       "1             https://myanimelist.net/manga/13/One_Piece   \n",
       "2      https://myanimelist.net/manga/25/Fullmetal_Alc...   \n",
       "3      https://myanimelist.net/manga/1706/JoJo_no_Kim...   \n",
       "4      https://myanimelist.net/manga/4632/Oyasumi_Punpun   \n",
       "...                                                  ...   \n",
       "67268               https://myanimelist.net/manga/149662   \n",
       "67269               https://myanimelist.net/manga/149663   \n",
       "67270               https://myanimelist.net/manga/149664   \n",
       "67271               https://myanimelist.net/manga/149666   \n",
       "67272               https://myanimelist.net/manga/149667   \n",
       "\n",
       "                title_english                   title_japanese  \\\n",
       "0                     Berserk                            ベルセルク   \n",
       "1                   One Piece                        ONE PIECE   \n",
       "2         Fullmetal Alchemist                           鋼の錬金術師   \n",
       "3                         NaN  ジョジョの奇妙な冒険 Part7 STEEL BALL RUN   \n",
       "4            Goodnight Punpun                         おやすみプンプン   \n",
       "...                       ...                              ...   \n",
       "67268                     NaN         スケアリー・キャンパス・カレッジ・ユニバーシティ   \n",
       "67269                     NaN            奴隷転生 ～その奴隷、最強の元王子につき～   \n",
       "67270  To Have You Once Again                              NaN   \n",
       "67271       He Was My Brother                   Ani datta Mono   \n",
       "67272                     NaN                             美しい彼   \n",
       "\n",
       "                                          title_synonyms  jikan  \n",
       "0                             ['Berserk: The Prototype']   True  \n",
       "1                                                     []   True  \n",
       "2      ['Full Metal Alchemist', 'Hagane no Renkinjuts...   True  \n",
       "3      [\"JoJo's Bizarre Adventure Part 7: Steel Ball ...   True  \n",
       "4                                                     []   True  \n",
       "...                                                  ...    ...  \n",
       "67268                                                 []  False  \n",
       "67269  ['The Prince Reincarnated Into Slavery to Make...  False  \n",
       "67270                                                 []  False  \n",
       "67271            ['Ani datta Mono', 'He Was My Brother']  False  \n",
       "67272                                                 []  False  \n",
       "\n",
       "[67273 rows x 31 columns]"
      ]
     },
     "execution_count": 2,
     "metadata": {},
     "output_type": "execute_result"
    }
   ],
   "source": [
    "pd.set_option('display.max_columns', None)\n",
    "manga_df = pd.read_csv('./Data/manga.csv')\n",
    "manga_df"
   ]
  },
  {
   "cell_type": "markdown",
   "id": "44bace8c",
   "metadata": {},
   "source": [
    "#### Dữ liệu có bao nhiêu dòng và cột ?"
   ]
  },
  {
   "cell_type": "code",
   "execution_count": 3,
   "id": "f4e71540",
   "metadata": {},
   "outputs": [
    {
     "data": {
      "text/plain": [
       "(67273, 31)"
      ]
     },
     "execution_count": 3,
     "metadata": {},
     "output_type": "execute_result"
    }
   ],
   "source": [
    "manga_df.shape"
   ]
  },
  {
   "cell_type": "markdown",
   "id": "e5a6948e",
   "metadata": {},
   "source": [
    "Dữ liệu có 67273 dòng và 31 cột"
   ]
  },
  {
   "cell_type": "markdown",
   "id": "040024f8",
   "metadata": {},
   "source": [
    "#### Ý nghĩa của từng dòng là gì ?"
   ]
  },
  {
   "cell_type": "markdown",
   "id": "76378c27",
   "metadata": {},
   "source": [
    "Mỗi dòng là thông tin của một manga"
   ]
  },
  {
   "cell_type": "markdown",
   "id": "992aa9a2",
   "metadata": {},
   "source": [
    "#### Có tồn tại dòng nào bị trùng lắp không ?"
   ]
  },
  {
   "cell_type": "code",
   "execution_count": 4,
   "id": "0d8560e2",
   "metadata": {},
   "outputs": [
    {
     "data": {
      "text/plain": [
       "0"
      ]
     },
     "execution_count": 4,
     "metadata": {},
     "output_type": "execute_result"
    }
   ],
   "source": [
    "np.sum(manga_df.duplicated())"
   ]
  },
  {
   "cell_type": "markdown",
   "id": "e52cc83e",
   "metadata": {},
   "source": [
    "Dữ liệu không có dòng nào trùng lắp"
   ]
  },
  {
   "cell_type": "markdown",
   "id": "c63b7216",
   "metadata": {},
   "source": [
    "#### Ý nghĩa của từng cột là gì ?"
   ]
  },
  {
   "cell_type": "markdown",
   "id": "37caf969",
   "metadata": {},
   "source": [
    "  | Cột               | Ý nghĩa                                                                       |\n",
    "  |-------------------|-------------------------------------------------------------------------------|\n",
    "  |`manga_id`         | ID của manga (mỗi manga có một ID riêng biệt)                                 |\n",
    "  |`title`            | Tựa đề của manga (viết theo phiên âm tiếng Nhật hoặc tiếng Anh)               |\n",
    "  |`type`             | Được phát hành theo dạng nào (truyện tranh, tiểu thuyết,...)                  |\n",
    "  |`score`            | Điểm số trên trang MyAnimeList (MAL)                                          |\n",
    "  |`scored_by`        | Số lượng người dùng đã đánh giá manga                                         |\n",
    "  |`status`           | Tình trạng (đang phát hành, đã hoàn thành, tạm dừng,...)                      |\n",
    "  |`volumes`          | Số tập                                                                        |\n",
    "  |`chapters`         | Số chương                                                                     |\n",
    "  |`start_date`       | Ngày bắt đầu phát hành                                                        |\n",
    "  |`end_date`         | Ngày kết thúc phát hành                                                       |\n",
    "  |`members`          | Số lượng người dùng có manga này trong list của họ                            |\n",
    "  |`favorites`        | Số lượng người dùng yêu thích manga này                                       |\n",
    "  |`sfw`              | Manga có nhãn 18+ hay không                                                   |\n",
    "  |`approved`         | Manga có được phê duyệt hay chưa                                              |\n",
    "  |`created_at_before`| Ngày trước khi mục của manga này được tạo                                     |\n",
    "  |`updated_at`       | Ngày cập nhật gần đây nhất của manga này                                      |\n",
    "  |`real_start_date`  | Ngày bắt đầu phát hành thật sự                                                |\n",
    "  |`real_end_date`    | Ngày kết thúc phát hành thật sự                                               |\n",
    "  |`genres`           | Thể loại                                                                      |\n",
    "  |`themes`           | Chủ đề                                                                        |\n",
    "  |`demographics`     | Nhân khẩu học                                                                 |\n",
    "  |`authors`          | Thông tin tác giả                                                             |\n",
    "  |`serializations`   | Danh sách các tạp chí nơi manga này được đăng lên                             |\n",
    "  |`sypnosis`         | Mô tả                                                                         |\n",
    "  |`background`       | Thông tin thêm                                                                |\n",
    "  |`main_picture`     | URL hình ảnh chính của manga trên MAL                                         |\n",
    "  |`url`              | URL của manga trên MAL                                                        |\n",
    "  |`title_english`    | Tựa đề tiếng Anh của manga                                                    |\n",
    "  |`title_japanese`   | Tựa đề tiếng Nhật của manga                                                   |\n",
    "  |`title_synonyms`   | Danh sách các tựa đề đồng nghĩa                                               |\n",
    "  |`jikan`            | Manga này được scrape từ Jikan API hay API chính thức của MAL                 |"
   ]
  },
  {
   "cell_type": "markdown",
   "id": "77af2278",
   "metadata": {},
   "source": [
    "#### Kiểu dữ liệu hiện tại của từng cột là gì ? Có tồn tại những cột nào có kiểu dữ liệu không phù hợp hay không ?"
   ]
  },
  {
   "cell_type": "code",
   "execution_count": 5,
   "id": "bc59c7a8",
   "metadata": {
    "scrolled": true
   },
   "outputs": [
    {
     "data": {
      "text/plain": [
       "manga_id               int64\n",
       "title                 object\n",
       "type                  object\n",
       "score                float64\n",
       "scored_by              int64\n",
       "status                object\n",
       "volumes              float64\n",
       "chapters             float64\n",
       "start_date            object\n",
       "end_date              object\n",
       "members                int64\n",
       "favorites              int64\n",
       "sfw                     bool\n",
       "approved                bool\n",
       "created_at_before     object\n",
       "updated_at            object\n",
       "real_start_date       object\n",
       "real_end_date         object\n",
       "genres                object\n",
       "themes                object\n",
       "demographics          object\n",
       "authors               object\n",
       "serializations        object\n",
       "synopsis              object\n",
       "background            object\n",
       "main_picture          object\n",
       "url                   object\n",
       "title_english         object\n",
       "title_japanese        object\n",
       "title_synonyms        object\n",
       "jikan                   bool\n",
       "dtype: object"
      ]
     },
     "execution_count": 5,
     "metadata": {},
     "output_type": "execute_result"
    }
   ],
   "source": [
    "manga_df.dtypes"
   ]
  },
  {
   "cell_type": "markdown",
   "id": "bd362ab0",
   "metadata": {},
   "source": [
    "#### Để hiểu rõ hơn về các cột có kiểu là object, ta sẽ phân tích ra thành từng kiểu con"
   ]
  },
  {
   "cell_type": "code",
   "execution_count": 6,
   "id": "fb0babaf",
   "metadata": {
    "scrolled": true
   },
   "outputs": [
    {
     "data": {
      "text/plain": [
       "title                                 {<class 'str'>}\n",
       "type                                  {<class 'str'>}\n",
       "status                                {<class 'str'>}\n",
       "start_date           {<class 'str'>, <class 'float'>}\n",
       "end_date             {<class 'str'>, <class 'float'>}\n",
       "created_at_before                     {<class 'str'>}\n",
       "updated_at           {<class 'str'>, <class 'float'>}\n",
       "real_start_date      {<class 'str'>, <class 'float'>}\n",
       "real_end_date        {<class 'str'>, <class 'float'>}\n",
       "genres                                {<class 'str'>}\n",
       "themes                                {<class 'str'>}\n",
       "demographics                          {<class 'str'>}\n",
       "authors                               {<class 'str'>}\n",
       "serializations                        {<class 'str'>}\n",
       "synopsis             {<class 'str'>, <class 'float'>}\n",
       "background           {<class 'str'>, <class 'float'>}\n",
       "main_picture         {<class 'str'>, <class 'float'>}\n",
       "url                                   {<class 'str'>}\n",
       "title_english        {<class 'str'>, <class 'float'>}\n",
       "title_japanese       {<class 'str'>, <class 'float'>}\n",
       "title_synonyms                        {<class 'str'>}\n",
       "dtype: object"
      ]
     },
     "execution_count": 6,
     "metadata": {},
     "output_type": "execute_result"
    }
   ],
   "source": [
    "def open_object_dtype(s):\n",
    "    dtypes = set()\n",
    "    dtypes.update(s.apply(type))\n",
    "    return dtypes\n",
    "\n",
    "manga_df[manga_df.dtypes.index[manga_df.dtypes == object]].apply(open_object_dtype)"
   ]
  },
  {
   "cell_type": "markdown",
   "id": "24c7baeb",
   "metadata": {},
   "source": [
    "#### Các cột phù hợp và không phù hợp về kiểu dữ liệu\n",
    "- `manga_id`, `title`, `type`, `score`, `scored_by`, `status`, `volumes`, `chapters`, `members`, `favorites`, `sfw`, `appoved`, `url`, `jikan`: phù hợp\n",
    "- `start_date`, `end_date`, `created_at_before`, `updated_at`, `real_start_date`, `real_end_date`: chuyển về date\n",
    "- `genres`, `themes`, `demographics`, `authors`, `serializations`, `title_synonyms`: chuyển về str array\n",
    "- `synopsis`, `background`, `main_picture`, `title_english`, `title_japanese`: chuyển về str\n",
    "\n",
    "  | Cột               | Kiểu dữ liệu có phù hợp |\n",
    "  |-------------------|-------------------------|\n",
    "  |`manga_id`         | True                    |\n",
    "  |`title`            | True                    |\n",
    "  |`type`             | True                    |\n",
    "  |`score`            | True                    |\n",
    "  |`scored_by`        | True                    |\n",
    "  |`status`           | True                    |\n",
    "  |`volumes`          | True                    |\n",
    "  |`chapters`         | True                    |\n",
    "  |`start_date`       | False (to datetime)     |\n",
    "  |`end_date`         | False (to datetime)     |\n",
    "  |`members`          | True                    |\n",
    "  |`favorites`        | True                    |\n",
    "  |`sfw`              | True                    |\n",
    "  |`approved`         | True                    |\n",
    "  |`created_at_before`| False (to datetime)     |\n",
    "  |`updated_at`       | False (to datetime)     |\n",
    "  |`real_start_date`  | False (to datetime)     |\n",
    "  |`real_end_date`    | False (to datetime)     |\n",
    "  |`genres`           | False (to str arr)      |\n",
    "  |`themes`           | False (to str arr)      |\n",
    "  |`demographics`     | False (to str arr)      |\n",
    "  |`authors`          | False (to str arr)      |\n",
    "  |`serializations`   | False (to str arr)      |\n",
    "  |`sypnosis`         | False (to str)          |\n",
    "  |`background`       | False (to str)          |\n",
    "  |`main_picture`     | False (to str)          |\n",
    "  |`url`              | True                    |\n",
    "  |`title_english`    | False (to str)          |\n",
    "  |`title_japanese`   | False (to str)          |\n",
    "  |`title_synonyms`   | False (to str arr)      |\n",
    "  |`jikan`            | True                    |"
   ]
  },
  {
   "cell_type": "markdown",
   "id": "1aba79e8",
   "metadata": {},
   "source": [
    "## **_02. Pre-processing Data:_**"
   ]
  },
  {
   "cell_type": "markdown",
   "id": "afee2774",
   "metadata": {},
   "source": [
    "**Ta sẽ chuyển những cột có kiểu không phù hợp về dạng thích hợp như đã đề cập ở phần 1**"
   ]
  },
  {
   "cell_type": "code",
   "execution_count": 7,
   "id": "390a3b37",
   "metadata": {},
   "outputs": [],
   "source": [
    "# Chuyen ve kieu datetime bang pd.to_datetime\n",
    "manga_df['start_date'] = pd.to_datetime(manga_df['start_date'], format='%Y-%m-%d')\n",
    "manga_df['end_date'] = pd.to_datetime(manga_df['end_date'], format='%Y-%m-%d')\n",
    "manga_df['created_at_before'] = pd.to_datetime(manga_df['created_at_before'])\n",
    "manga_df['updated_at'] = pd.to_datetime(manga_df['updated_at'], format='%Y-%m-%d %H:%M:%S')\n",
    "manga_df['real_start_date'] = pd.to_datetime(manga_df['real_start_date'])\n",
    "manga_df['real_end_date'] = pd.to_datetime(manga_df['real_end_date'])\n",
    "\n",
    "# Chuyen ve str array bang ast.literal_eval\n",
    "manga_df[['genres', 'themes', 'demographics', 'authors', 'serializations', 'title_synonyms']] = \\\n",
    "    manga_df[['genres', 'themes', 'demographics', 'authors', 'serializations', 'title_synonyms']].apply(lambda col : col.apply(ast.literal_eval), axis=1)\n",
    "\n",
    "# Chuyen ve str (voi nhung val da la str thi giu nguyen, voi nhung val la nan thi thay bang chuoi rong)\n",
    "manga_df[['synopsis', 'background', 'main_picture', 'title_english', 'title_japanese']] = \\\n",
    "    manga_df[['synopsis', 'background', 'main_picture', 'title_english', 'title_japanese']].replace(to_replace=np.nan, value='')"
   ]
  },
  {
   "cell_type": "markdown",
   "id": "efd51cb6",
   "metadata": {},
   "source": [
    "#### Bây giờ ta có thể thấy, tất cả dữ liệu đều hợp lệ"
   ]
  },
  {
   "cell_type": "code",
   "execution_count": 8,
   "id": "0b6484d2",
   "metadata": {
    "scrolled": true
   },
   "outputs": [
    {
     "data": {
      "text/plain": [
       "manga_id                                               {<class 'int'>}\n",
       "title                                                  {<class 'str'>}\n",
       "type                                                   {<class 'str'>}\n",
       "score                                                {<class 'float'>}\n",
       "scored_by                                              {<class 'int'>}\n",
       "status                                                 {<class 'str'>}\n",
       "volumes                                              {<class 'float'>}\n",
       "chapters                                             {<class 'float'>}\n",
       "start_date           {<class 'pandas._libs.tslibs.nattype.NaTType'>...\n",
       "end_date             {<class 'pandas._libs.tslibs.nattype.NaTType'>...\n",
       "members                                                {<class 'int'>}\n",
       "favorites                                              {<class 'int'>}\n",
       "sfw                                                   {<class 'bool'>}\n",
       "approved                                              {<class 'bool'>}\n",
       "created_at_before    {<class 'pandas._libs.tslibs.timestamps.Timest...\n",
       "updated_at           {<class 'pandas._libs.tslibs.nattype.NaTType'>...\n",
       "real_start_date      {<class 'pandas._libs.tslibs.nattype.NaTType'>...\n",
       "real_end_date        {<class 'pandas._libs.tslibs.nattype.NaTType'>...\n",
       "genres                                                {<class 'list'>}\n",
       "themes                                                {<class 'list'>}\n",
       "demographics                                          {<class 'list'>}\n",
       "authors                                               {<class 'list'>}\n",
       "serializations                                        {<class 'list'>}\n",
       "synopsis                                               {<class 'str'>}\n",
       "background                                             {<class 'str'>}\n",
       "main_picture                                           {<class 'str'>}\n",
       "url                                                    {<class 'str'>}\n",
       "title_english                                          {<class 'str'>}\n",
       "title_japanese                                         {<class 'str'>}\n",
       "title_synonyms                                        {<class 'list'>}\n",
       "jikan                                                 {<class 'bool'>}\n",
       "dtype: object"
      ]
     },
     "execution_count": 8,
     "metadata": {},
     "output_type": "execute_result"
    }
   ],
   "source": [
    "manga_df.apply(open_object_dtype)"
   ]
  },
  {
   "cell_type": "markdown",
   "id": "de21b0eb",
   "metadata": {},
   "source": [
    "## **_03. Exploring Data (cont):_**"
   ]
  },
  {
   "cell_type": "markdown",
   "id": "baa1a14a",
   "metadata": {},
   "source": [
    "### **_03.1. Phân bổ các cột kiểu số:_**"
   ]
  },
  {
   "cell_type": "markdown",
   "id": "5f430b94",
   "metadata": {},
   "source": [
    "Với các cột này ta tính tỉ lệ miss (tỉ lệ giá trị nan, nat), giá trị nhỏ nhất (min), trung vị (median) và giá trị lớn nhất (max)."
   ]
  },
  {
   "cell_type": "code",
   "execution_count": 9,
   "id": "9a2d57dd",
   "metadata": {},
   "outputs": [
    {
     "data": {
      "text/html": [
       "<div>\n",
       "<style scoped>\n",
       "    .dataframe tbody tr th:only-of-type {\n",
       "        vertical-align: middle;\n",
       "    }\n",
       "\n",
       "    .dataframe tbody tr th {\n",
       "        vertical-align: top;\n",
       "    }\n",
       "\n",
       "    .dataframe thead th {\n",
       "        text-align: right;\n",
       "    }\n",
       "</style>\n",
       "<table border=\"1\" class=\"dataframe\">\n",
       "  <thead>\n",
       "    <tr style=\"text-align: right;\">\n",
       "      <th></th>\n",
       "      <th>score</th>\n",
       "      <th>scored_by</th>\n",
       "      <th>volumes</th>\n",
       "      <th>chapters</th>\n",
       "      <th>start_date</th>\n",
       "      <th>end_date</th>\n",
       "      <th>members</th>\n",
       "      <th>favorites</th>\n",
       "      <th>created_at_before</th>\n",
       "      <th>updated_at</th>\n",
       "      <th>real_start_date</th>\n",
       "      <th>real_end_date</th>\n",
       "    </tr>\n",
       "  </thead>\n",
       "  <tbody>\n",
       "    <tr>\n",
       "      <th>Missing percentage</th>\n",
       "      <td>67.431213</td>\n",
       "      <td>0.0</td>\n",
       "      <td>24.941656</td>\n",
       "      <td>29.994203</td>\n",
       "      <td>6.427542</td>\n",
       "      <td>23.117744</td>\n",
       "      <td>0.0</td>\n",
       "      <td>0.0</td>\n",
       "      <td>0.0</td>\n",
       "      <td>12.311031</td>\n",
       "      <td>6.427542</td>\n",
       "      <td>23.117744</td>\n",
       "    </tr>\n",
       "    <tr>\n",
       "      <th>Min</th>\n",
       "      <td>2.450000</td>\n",
       "      <td>0.0</td>\n",
       "      <td>1.000000</td>\n",
       "      <td>1.000000</td>\n",
       "      <td>1922-01-01 00:00:00</td>\n",
       "      <td>1924-10-31 00:00:00</td>\n",
       "      <td>0.0</td>\n",
       "      <td>0.0</td>\n",
       "      <td>2007-07-17 20:14:45+00:00</td>\n",
       "      <td>2007-07-17 20:14:45+00:00</td>\n",
       "      <td>1922-01-01 00:00:00</td>\n",
       "      <td>1924-10-31 00:00:00</td>\n",
       "    </tr>\n",
       "    <tr>\n",
       "      <th>Median</th>\n",
       "      <td>6.940000</td>\n",
       "      <td>25.0</td>\n",
       "      <td>1.000000</td>\n",
       "      <td>9.000000</td>\n",
       "      <td>2012-06-12 00:00:00</td>\n",
       "      <td>2012-12-13 00:00:00</td>\n",
       "      <td>125.0</td>\n",
       "      <td>0.0</td>\n",
       "      <td>2015-03-26 12:32:05+00:00</td>\n",
       "      <td>2020-11-19 21:09:29+00:00</td>\n",
       "      <td>2012-06-12 00:00:00</td>\n",
       "      <td>2012-12-13 00:00:00</td>\n",
       "    </tr>\n",
       "    <tr>\n",
       "      <th>Max</th>\n",
       "      <td>9.450000</td>\n",
       "      <td>363368.0</td>\n",
       "      <td>200.000000</td>\n",
       "      <td>6477.000000</td>\n",
       "      <td>2022-10-14 00:00:00</td>\n",
       "      <td>2022-08-09 00:00:00</td>\n",
       "      <td>590241.0</td>\n",
       "      <td>103820.0</td>\n",
       "      <td>2022-07-25 17:32:10.227760896+00:00</td>\n",
       "      <td>2022-07-25 04:59:06+00:00</td>\n",
       "      <td>2022-10-14 00:00:00</td>\n",
       "      <td>2022-08-09 00:00:00</td>\n",
       "    </tr>\n",
       "  </tbody>\n",
       "</table>\n",
       "</div>"
      ],
      "text/plain": [
       "                        score  scored_by     volumes     chapters  \\\n",
       "Missing percentage  67.431213        0.0   24.941656    29.994203   \n",
       "Min                  2.450000        0.0    1.000000     1.000000   \n",
       "Median               6.940000       25.0    1.000000     9.000000   \n",
       "Max                  9.450000   363368.0  200.000000  6477.000000   \n",
       "\n",
       "                             start_date             end_date   members  \\\n",
       "Missing percentage             6.427542            23.117744       0.0   \n",
       "Min                 1922-01-01 00:00:00  1924-10-31 00:00:00       0.0   \n",
       "Median              2012-06-12 00:00:00  2012-12-13 00:00:00     125.0   \n",
       "Max                 2022-10-14 00:00:00  2022-08-09 00:00:00  590241.0   \n",
       "\n",
       "                    favorites                    created_at_before  \\\n",
       "Missing percentage        0.0                                  0.0   \n",
       "Min                       0.0            2007-07-17 20:14:45+00:00   \n",
       "Median                    0.0            2015-03-26 12:32:05+00:00   \n",
       "Max                  103820.0  2022-07-25 17:32:10.227760896+00:00   \n",
       "\n",
       "                                   updated_at      real_start_date  \\\n",
       "Missing percentage                  12.311031             6.427542   \n",
       "Min                 2007-07-17 20:14:45+00:00  1922-01-01 00:00:00   \n",
       "Median              2020-11-19 21:09:29+00:00  2012-06-12 00:00:00   \n",
       "Max                 2022-07-25 04:59:06+00:00  2022-10-14 00:00:00   \n",
       "\n",
       "                          real_end_date  \n",
       "Missing percentage            23.117744  \n",
       "Min                 1924-10-31 00:00:00  \n",
       "Median              2012-12-13 00:00:00  \n",
       "Max                 2022-08-09 00:00:00  "
      ]
     },
     "execution_count": 9,
     "metadata": {},
     "output_type": "execute_result"
    }
   ],
   "source": [
    "# List cac cot kieu so (numerical)\n",
    "nume_cols = ['score', 'scored_by', 'volumes', 'chapters', 'start_date', 'end_date', 'members', 'favorites', 'created_at_before', 'updated_at', 'real_start_date', 'real_end_date']\n",
    "\n",
    "# Phan tram gia tri thieu, min, median, max\n",
    "missing_percentages = np.sum(manga_df[nume_cols].isna(), axis=0) / manga_df.shape[0] * 100\n",
    "mins = manga_df[nume_cols].quantile(0, numeric_only=False)\n",
    "medians = manga_df[nume_cols].quantile(0.5, numeric_only=False)\n",
    "maxs = manga_df[nume_cols].quantile(1, numeric_only=False)\n",
    "\n",
    "# Dataframe minh hoa\n",
    "nume_cols_dist_df = pd.DataFrame(data=[missing_percentages, mins, medians, maxs],\n",
    "                                       index=['Missing percentage', 'Min', 'Median', 'Max'],\n",
    "                                       columns=nume_cols)\n",
    "nume_cols_dist_df"
   ]
  },
  {
   "cell_type": "markdown",
   "id": "99330216",
   "metadata": {},
   "source": [
    "Ta có thể thấy:\n",
    "- Về missing percentage:\n",
    "    - `scored_by`, `members`, `favorites`, `created_at_before` có đầy đủ dữ liệu.\n",
    "    - `score` bị thiếu rất nhiều nhưng `scored_by` thì lại đầy đủ bởi vì hệ thống của MAL chỉ tính điểm khi đáp ứng được một số yêu cầu (có thể là phải đủ số lượt đánh giá, những người đánh giá phải thỏa mãn một số điều kiện như là phải đọc hết hoặc đọc được một mức nào đó,..), cộng thêm một số bộ mà `status` của nó là not_yet_published (chưa được phát hành) nên chưa được chấm điểm.\n",
    "    - `volumes` và `chapters` bị thiếu chủ yếu là do `status` của nó (chưa hoàn thành, đang tạm dừng, chưa phát hành,...), vì 2 cột này chỉ hiển thị số tập và số chương khi bộ đó đã kết thúc (hoàn thành hoặc bị dừng vô thời hạn).\n",
    "    - `start_date` và `real_start_date` bị thiếu một vài có lẽ là do không có thông tin hoặc bộ đó chưa được phát hành.\n",
    "    - `end_date` và `real_end_date` bị thiếu kha khá, lý do có thể giống như trên cộng thêm việc bộ đó chưa kết thúc.\n",
    "    - `updated_at` bị thiếu là do entry của bộ đó được tạo nhưng chưa được update lần nào sau đó.\n",
    "- Về min, median và max:\n",
    "    - Tất cả các cột ngoại trừ `score` đều có range rất rộng.\n",
    "    - Đối với các cột kiểu số thì giá trị chủ yếu nằm trong khoảng từ min tới median.\n",
    "    - Đối với các cột kiểu thời gian thì giá trị chủ yếu nằm trong khoảng từ median tới max."
   ]
  },
  {
   "cell_type": "markdown",
   "id": "e7386df5",
   "metadata": {},
   "source": [
    "Xét cột `score`, `scored_by`, `volumes`, `chapters`, `members`, `favorites`"
   ]
  },
  {
   "cell_type": "code",
   "execution_count": 10,
   "id": "741df3e1",
   "metadata": {
    "scrolled": false
   },
   "outputs": [
    {
     "data": {
      "text/plain": [
       "<AxesSubplot:xlabel='score'>"
      ]
     },
     "execution_count": 10,
     "metadata": {},
     "output_type": "execute_result"
    },
    {
     "data": {
      "image/png": "[encoded data removed]",
      "text/plain": [
       "<Figure size 640x480 with 1 Axes>"
      ]
     },
     "metadata": {},
     "output_type": "display_data"
    }
   ],
   "source": [
    "sns.boxplot(x=manga_df['score'])"
   ]
  },
  {
   "cell_type": "markdown",
   "id": "d93e78db",
   "metadata": {},
   "source": [
    "Dựa trên biểu đồ có thể thấy là 50% tất cả số điểm nằm trong khoảng xấp xỉ 7 điểm, min và max (không tính outliers) lần lượt là khoảng 6.75 và 8.25."
   ]
  },
  {
   "cell_type": "code",
   "execution_count": 11,
   "id": "5a9fe83f",
   "metadata": {
    "scrolled": true
   },
   "outputs": [
    {
     "data": {
      "text/plain": [
       "611"
      ]
     },
     "execution_count": 11,
     "metadata": {},
     "output_type": "execute_result"
    }
   ],
   "source": [
    "Q1 = manga_df['score'].quantile(0.25)\n",
    "Q3 = manga_df['score'].quantile(0.75)\n",
    "IQR = manga_df['score'].quantile(0.75) - manga_df['score'].quantile(0.25)\n",
    "minimum = Q1 - 1.5 * IQR\n",
    "maximum = Q3 + 1.5 * IQR\n",
    "\n",
    "len(manga_df[(manga_df['score'] < minimum) | (manga_df['score'] > maximum)])"
   ]
  },
  {
   "cell_type": "markdown",
   "id": "0099b2f8",
   "metadata": {},
   "source": [
    "Có 611 outliers xét trong cột __**`score`**__"
   ]
  },
  {
   "cell_type": "code",
   "execution_count": 12,
   "id": "f9988b34",
   "metadata": {},
   "outputs": [
    {
     "data": {
      "text/plain": [
       "282"
      ]
     },
     "execution_count": 12,
     "metadata": {},
     "output_type": "execute_result"
    }
   ],
   "source": [
    "# Trong những bộ bị thiếu score, bộ có nhiều người đánh giá nhất là bao nhiêu người ?\n",
    "manga_df['scored_by'][np.isnan(manga_df['score'])].max()"
   ]
  },
  {
   "cell_type": "code",
   "execution_count": 13,
   "id": "eaa3ff16",
   "metadata": {},
   "outputs": [
    {
     "data": {
      "text/plain": [
       "25"
      ]
     },
     "execution_count": 13,
     "metadata": {},
     "output_type": "execute_result"
    }
   ],
   "source": [
    "# Trong những bộ có score, bộ có ít người đánh giá nhất là bao nhiêu người ?\n",
    "manga_df['scored_by'][~np.isnan(manga_df['score'])].min()"
   ]
  },
  {
   "cell_type": "markdown",
   "id": "d6daeb63",
   "metadata": {},
   "source": [
    "Như vậy có thể 25 là số lượt đánh giá tối thiểu mà một bộ manga cần để được tính điểm, nhưng nếu có nhiều hơn con số này thì cũng chưa chắc được tính điểm vì những lý do đã nói bên trên."
   ]
  },
  {
   "cell_type": "code",
   "execution_count": 14,
   "id": "fb5ce434",
   "metadata": {},
   "outputs": [
    {
     "data": {
      "text/plain": [
       "(array(['currently_publishing', 'discontinued', 'finished',\n",
       "        'not_yet_published', 'on_hiatus'], dtype=object),\n",
       " array([9512,   28, 7155,   47,   37]))"
      ]
     },
     "execution_count": 14,
     "metadata": {},
     "output_type": "execute_result"
    }
   ],
   "source": [
    "# Số bộ manga bị thiếu cột volumes gom nhóm theo status\n",
    "np.unique(manga_df['status'][manga_df['volumes'].isna()], return_counts=True)"
   ]
  },
  {
   "cell_type": "code",
   "execution_count": 15,
   "id": "5428956e",
   "metadata": {},
   "outputs": [
    {
     "data": {
      "text/plain": [
       "(array(['currently_publishing', 'discontinued', 'finished',\n",
       "        'not_yet_published', 'on_hiatus'], dtype=object),\n",
       " array([ 9510,    12, 10551,    56,    49]))"
      ]
     },
     "execution_count": 15,
     "metadata": {},
     "output_type": "execute_result"
    }
   ],
   "source": [
    "# Số bộ manga bị thiếu cột chapters gom nhóm theo status\n",
    "np.unique(manga_df['status'][manga_df['chapters'].isna()], return_counts=True)"
   ]
  },
  {
   "cell_type": "markdown",
   "id": "090ebae0",
   "metadata": {},
   "source": [
    "Như đã giải thích ở trên, vì __**`volumes`**__ và __**`chapters`**__ chỉ xuất hiện khi bộ manga đã kết thúc, vậy nên những manga đang phát hành (currently_publishing) bị thiếu nhiều.\n",
    "Nhưng tại sao những manga đã hoàn thành (finished) lại bị thiếu cũng rất nhiều ? Lý do có thể là:\n",
    "\n",
    "   - Vì số lượng manga có __**`status`**__ là finished chiếm phần lớn trong bộ dữ liệu.\n",
    "    \n",
    "   - Đối với những bộ chỉ có __**`chapters`**__ nhưng không có __**`volumes`**__ thì lý do lớn nhất là những bộ manga one-shot (những bộ chỉ có 1 chapter) nên sẽ không có tập (__**`volumes`**__) nào hết. Những bộ one-shot như vậy chiếm tỉ lệ rất nhiều trên MAL.\n",
    "    \n",
    "   - Đối với những bộ chỉ có __**`volumes`**__ nhưng không có __**`chapters`**__ thì lý do lớn nhất là những bộ tiểu thuyết (light_novel hoặc novel) thường được xuất bản theo tập và tác giả lại không chia chapters khi viết. Những bộ tiểu thuyết chiếm tỉ lệ cũng rất nhiều trên MAL.\n",
    "    \n",
    "   - Lý do cuối cùng và đơn giản nhất đó là chính MAL cũng không thể tìm được thông tin (tác phẩm quá ít người biết đến, tác giả không cung cấp thông tin,...)."
   ]
  },
  {
   "cell_type": "markdown",
   "id": "5d385d2c",
   "metadata": {},
   "source": [
    "Xét cột `start_date`, `real_start_date`, `end_date`, `real_end_date`, `created_at_before`, `updated_at`"
   ]
  },
  {
   "cell_type": "markdown",
   "id": "cde2b54a",
   "metadata": {},
   "source": [
    "Dựa vào dataframe thì ta có thể thấy những cột trên có range khá rộng, riêng những cột '_date' có giá trị nhỏ nhất là thời điểm những năm 1920s. Nhưng giá trị chủ yếu tập trung ở khoảng 15 năm trở lại đây."
   ]
  },
  {
   "cell_type": "code",
   "execution_count": 28,
   "id": "41dd3a2c",
   "metadata": {},
   "outputs": [
    {
     "data": {
      "text/plain": [
       "93.57245849003316"
      ]
     },
     "execution_count": 28,
     "metadata": {},
     "output_type": "execute_result"
    }
   ],
   "source": [
    "# Tỉ lệ những dòng có start_date == real_start_date\n",
    "(np.sum(manga_df['start_date'] == manga_df['real_start_date']) / manga_df.shape[0]) * 100"
   ]
  },
  {
   "cell_type": "code",
   "execution_count": 29,
   "id": "cd4be2f4",
   "metadata": {},
   "outputs": [
    {
     "data": {
      "text/plain": [
       "76.88225588274642"
      ]
     },
     "execution_count": 29,
     "metadata": {},
     "output_type": "execute_result"
    }
   ],
   "source": [
    "# Tỉ lệ những dòng có end_date == real_end_date\n",
    "(np.sum(manga_df['end_date'] == manga_df['real_end_date']) / manga_df.shape[0]) * 100"
   ]
  },
  {
   "cell_type": "markdown",
   "id": "487e70fc",
   "metadata": {},
   "source": [
    "Mỗi dòng đa phần có `start_date` và `real_start_date` là như nhau, với `end_date` và `real_end_date` thì có khoảng 3/4 số dòng là như nhau."
   ]
  },
  {
   "cell_type": "markdown",
   "id": "3d75785f",
   "metadata": {},
   "source": [
    "### **_03.2. Phân bổ các cột kiểu phân loại:_**"
   ]
  },
  {
   "cell_type": "markdown",
   "id": "32da160d",
   "metadata": {},
   "source": [
    "#### Các cột kiểu str\n",
    "\n",
    "Với các cột này ta tính tỉ lệ miss (tỉ lệ chuỗi rỗng), số giá trị khác nhau (không tính miss) và list những giá trị đó (không tính miss)."
   ]
  },
  {
   "cell_type": "code",
   "execution_count": 17,
   "id": "d772772d",
   "metadata": {},
   "outputs": [
    {
     "data": {
      "text/html": [
       "<div>\n",
       "<style scoped>\n",
       "    .dataframe tbody tr th:only-of-type {\n",
       "        vertical-align: middle;\n",
       "    }\n",
       "\n",
       "    .dataframe tbody tr th {\n",
       "        vertical-align: top;\n",
       "    }\n",
       "\n",
       "    .dataframe thead th {\n",
       "        text-align: right;\n",
       "    }\n",
       "</style>\n",
       "<table border=\"1\" class=\"dataframe\">\n",
       "  <thead>\n",
       "    <tr style=\"text-align: right;\">\n",
       "      <th></th>\n",
       "      <th>title</th>\n",
       "      <th>type</th>\n",
       "      <th>status</th>\n",
       "      <th>synopsis</th>\n",
       "      <th>background</th>\n",
       "      <th>main_picture</th>\n",
       "      <th>url</th>\n",
       "      <th>title_english</th>\n",
       "      <th>title_japanese</th>\n",
       "    </tr>\n",
       "  </thead>\n",
       "  <tbody>\n",
       "    <tr>\n",
       "      <th>Missing_ratio</th>\n",
       "      <td>0.0</td>\n",
       "      <td>0.0</td>\n",
       "      <td>0.0</td>\n",
       "      <td>0.321868</td>\n",
       "      <td>0.861178</td>\n",
       "      <td>0.036285</td>\n",
       "      <td>0.0</td>\n",
       "      <td>0.726086</td>\n",
       "      <td>0.039838</td>\n",
       "    </tr>\n",
       "    <tr>\n",
       "      <th>Num_diff_vals</th>\n",
       "      <td>63987</td>\n",
       "      <td>7</td>\n",
       "      <td>5</td>\n",
       "      <td>44495</td>\n",
       "      <td>9294</td>\n",
       "      <td>64832</td>\n",
       "      <td>67273</td>\n",
       "      <td>17542</td>\n",
       "      <td>62172</td>\n",
       "    </tr>\n",
       "    <tr>\n",
       "      <th>Diff_vals</th>\n",
       "      <td>[Berserk, One Piece, Fullmetal Alchemist, JoJo...</td>\n",
       "      <td>[manga, manhwa, light_novel, one_shot, manhua,...</td>\n",
       "      <td>[currently_publishing, finished, on_hiatus, di...</td>\n",
       "      <td>[Guts, a former mercenary now known as the \"Bl...</td>\n",
       "      <td>[Berserk won the Award for Excellence at the s...</td>\n",
       "      <td>[https://cdn.myanimelist.net/images/manga/1/15...</td>\n",
       "      <td>[https://myanimelist.net/manga/2/Berserk, http...</td>\n",
       "      <td>[Berserk, One Piece, Fullmetal Alchemist, Good...</td>\n",
       "      <td>[ベルセルク, ONE PIECE, 鋼の錬金術師, ジョジョの奇妙な冒険 Part7 ST...</td>\n",
       "    </tr>\n",
       "  </tbody>\n",
       "</table>\n",
       "</div>"
      ],
      "text/plain": [
       "                                                           title  \\\n",
       "Missing_ratio                                                0.0   \n",
       "Num_diff_vals                                              63987   \n",
       "Diff_vals      [Berserk, One Piece, Fullmetal Alchemist, JoJo...   \n",
       "\n",
       "                                                            type  \\\n",
       "Missing_ratio                                                0.0   \n",
       "Num_diff_vals                                                  7   \n",
       "Diff_vals      [manga, manhwa, light_novel, one_shot, manhua,...   \n",
       "\n",
       "                                                          status  \\\n",
       "Missing_ratio                                                0.0   \n",
       "Num_diff_vals                                                  5   \n",
       "Diff_vals      [currently_publishing, finished, on_hiatus, di...   \n",
       "\n",
       "                                                        synopsis  \\\n",
       "Missing_ratio                                           0.321868   \n",
       "Num_diff_vals                                              44495   \n",
       "Diff_vals      [Guts, a former mercenary now known as the \"Bl...   \n",
       "\n",
       "                                                      background  \\\n",
       "Missing_ratio                                           0.861178   \n",
       "Num_diff_vals                                               9294   \n",
       "Diff_vals      [Berserk won the Award for Excellence at the s...   \n",
       "\n",
       "                                                    main_picture  \\\n",
       "Missing_ratio                                           0.036285   \n",
       "Num_diff_vals                                              64832   \n",
       "Diff_vals      [https://cdn.myanimelist.net/images/manga/1/15...   \n",
       "\n",
       "                                                             url  \\\n",
       "Missing_ratio                                                0.0   \n",
       "Num_diff_vals                                              67273   \n",
       "Diff_vals      [https://myanimelist.net/manga/2/Berserk, http...   \n",
       "\n",
       "                                                   title_english  \\\n",
       "Missing_ratio                                           0.726086   \n",
       "Num_diff_vals                                              17542   \n",
       "Diff_vals      [Berserk, One Piece, Fullmetal Alchemist, Good...   \n",
       "\n",
       "                                                  title_japanese  \n",
       "Missing_ratio                                           0.039838  \n",
       "Num_diff_vals                                              62172  \n",
       "Diff_vals      [ベルセルク, ONE PIECE, 鋼の錬金術師, ジョジョの奇妙な冒険 Part7 ST...  "
      ]
     },
     "execution_count": 17,
     "metadata": {},
     "output_type": "execute_result"
    }
   ],
   "source": [
    "str_col_profiles_df = pd.DataFrame({'title': [.0] * 3,\n",
    "                                     'type': [.0] * 3,\n",
    "                                     'status': [.0] * 3,\n",
    "                                     'synopsis': [.0] * 3,\n",
    "                                     'background': [.0] * 3,\n",
    "                                     'main_picture': [.0] * 3,\n",
    "                                     'url': [.0] * 3,\n",
    "                                     'title_english': [.0] * 3,\n",
    "                                     'title_japanese': [.0] * 3},\n",
    "                                    index=['Missing_ratio', 'Num_diff_vals', 'Diff_vals'], dtype=object)\n",
    "\n",
    "str_col_profiles_df.loc['Missing_ratio'] = np.sum(manga_df[str_col_profiles_df.columns] == '', axis=0) / manga_df.shape[0]\n",
    "str_col_profiles_df.loc['Num_diff_vals'] = manga_df[str_col_profiles_df.columns][manga_df[str_col_profiles_df.columns] != ''].nunique()\n",
    "str_col_profiles_df.loc['Diff_vals'] = manga_df[str_col_profiles_df.columns].apply(lambda col: col[col != ''].unique())\n",
    "str_col_profiles_df"
   ]
  },
  {
   "cell_type": "markdown",
   "id": "c2adce9c",
   "metadata": {},
   "source": [
    "Ta có thể thấy:\n",
    "- Về missing_ratio:\n",
    "    - `title`, `type`, `status`, `url` có đầy đủ dữ liệu\n",
    "    - `synopsis` bị thiếu nhưng vẫn nhiều dữ liệu hơn `background` vì người ta thường quan tâm đến mô tả hơn phần thông tin thêm\n",
    "    - `title_japanese` bị thiếu nhưng vẫn nhiều dữ liệu hơn `title_english` vì đây là manga của Nhật Bản nên dữ liệu bị thiếu nhiều sẽ là tiếng Anh\n",
    "    - Một số bộ manga thì không có `main_picture`\n",
    "- Về num_diff_vals và diff_vals:\n",
    "    - Các cột: `title`, `synopsis`, `background`, `title_english`, `title_japanese` vẫn có trùng lắp\n",
    "    - Cột `main_picture` (ngoại trừ những bộ manga không có hình ảnh đại diện) và `url` là không có trùng lắp, mỗi bộ manga sẽ có một hình ảnh và url riêng\n",
    "    - Cột `type` gồm: manga, manhwa, light_novel, one_shot, manhua, novel, doujinshi\n",
    "    - Cột `status` gồm: curently_publishing, finished, on_hiatus, discontinued, not_yet_published"
   ]
  },
  {
   "cell_type": "markdown",
   "id": "d2d02ae4",
   "metadata": {},
   "source": [
    "Xét các cột `title`, `type`, `status`"
   ]
  },
  {
   "cell_type": "markdown",
   "id": "a4866ad9",
   "metadata": {},
   "source": [
    "**_`title`_** có 4 bộ xuất hiện nhiều nhất"
   ]
  },
  {
   "cell_type": "code",
   "execution_count": 18,
   "id": "4f7b309b",
   "metadata": {},
   "outputs": [
    {
     "data": {
      "text/plain": [
       "0    40 x 40 Chikuwa Kaigi\n",
       "1             Fate/Requiem\n",
       "2                 Hatsukoi\n",
       "3            Solo Leveling\n",
       "dtype: object"
      ]
     },
     "execution_count": 18,
     "metadata": {},
     "output_type": "execute_result"
    }
   ],
   "source": [
    "manga_df['title'].mode()"
   ]
  },
  {
   "cell_type": "markdown",
   "id": "874e4041",
   "metadata": {},
   "source": [
    "**_`type`_** dạng manga là phổ biến nhất"
   ]
  },
  {
   "cell_type": "code",
   "execution_count": 19,
   "id": "9d07e9f0",
   "metadata": {},
   "outputs": [
    {
     "data": {
      "text/plain": [
       "0    manga\n",
       "dtype: object"
      ]
     },
     "execution_count": 19,
     "metadata": {},
     "output_type": "execute_result"
    },
    {
     "data": {
      "image/png": "[encoded data removed]",
      "text/plain": [
       "<Figure size 640x480 with 1 Axes>"
      ]
     },
     "metadata": {},
     "output_type": "display_data"
    }
   ],
   "source": [
    "plt.pie(manga_df.groupby('type')['type'].count().values, labels=manga_df.groupby('type')['type'].count().index, autopct = '%1.2f%%');\n",
    "manga_df['type'].mode()"
   ]
  },
  {
   "cell_type": "markdown",
   "id": "32d42fd7",
   "metadata": {},
   "source": [
    "**_`status`_** finished là trạng thái phổ biến nhất"
   ]
  },
  {
   "cell_type": "code",
   "execution_count": 20,
   "id": "3d014ee7",
   "metadata": {},
   "outputs": [
    {
     "data": {
      "text/plain": [
       "0    finished\n",
       "dtype: object"
      ]
     },
     "execution_count": 20,
     "metadata": {},
     "output_type": "execute_result"
    },
    {
     "data": {
      "image/png": "[encoded data removed]",
      "text/plain": [
       "<Figure size 640x480 with 1 Axes>"
      ]
     },
     "metadata": {},
     "output_type": "display_data"
    }
   ],
   "source": [
    "plt.pie(manga_df.groupby('status')['status'].count().values, labels=manga_df.groupby('status')['status'].count().index, autopct = '%1.2f%%');\n",
    "manga_df['status'].mode()"
   ]
  },
  {
   "cell_type": "markdown",
   "id": "5fb3dd75",
   "metadata": {},
   "source": [
    "_Nhìn chung không có gì bất thường với kiểu str_"
   ]
  },
  {
   "cell_type": "markdown",
   "id": "8f8981f3",
   "metadata": {},
   "source": [
    "---"
   ]
  },
  {
   "cell_type": "markdown",
   "id": "320e81bc",
   "metadata": {},
   "source": [
    "#### Các cột kiểu str array"
   ]
  },
  {
   "cell_type": "markdown",
   "id": "de314040",
   "metadata": {},
   "source": [
    "Với các cột kiểu list này ta sẽ concate các list (trong từng cột) với nhau và dùng unique để tính ra các diff_vals cho từng cột, num_diff_vals sẽ là độ dài của diff_vals vừa tính và missing_ratio sẽ là tỉ lệ những dòng có list rỗng cho từng cột"
   ]
  },
  {
   "cell_type": "code",
   "execution_count": 21,
   "id": "95fe767d",
   "metadata": {},
   "outputs": [
    {
     "data": {
      "text/html": [
       "<div>\n",
       "<style scoped>\n",
       "    .dataframe tbody tr th:only-of-type {\n",
       "        vertical-align: middle;\n",
       "    }\n",
       "\n",
       "    .dataframe tbody tr th {\n",
       "        vertical-align: top;\n",
       "    }\n",
       "\n",
       "    .dataframe thead th {\n",
       "        text-align: right;\n",
       "    }\n",
       "</style>\n",
       "<table border=\"1\" class=\"dataframe\">\n",
       "  <thead>\n",
       "    <tr style=\"text-align: right;\">\n",
       "      <th></th>\n",
       "      <th>genres</th>\n",
       "      <th>themes</th>\n",
       "      <th>demographics</th>\n",
       "      <th>authors</th>\n",
       "      <th>serializations</th>\n",
       "      <th>title_synonyms</th>\n",
       "    </tr>\n",
       "  </thead>\n",
       "  <tbody>\n",
       "    <tr>\n",
       "      <th>missing_ratio</th>\n",
       "      <td>0.047017</td>\n",
       "      <td>0.648462</td>\n",
       "      <td>0.598933</td>\n",
       "      <td>0.111828</td>\n",
       "      <td>0.389413</td>\n",
       "      <td>0.513356</td>\n",
       "    </tr>\n",
       "    <tr>\n",
       "      <th>num_diff_vals</th>\n",
       "      <td>21</td>\n",
       "      <td>52</td>\n",
       "      <td>5</td>\n",
       "      <td>0.0</td>\n",
       "      <td>1162</td>\n",
       "      <td>0.0</td>\n",
       "    </tr>\n",
       "    <tr>\n",
       "      <th>diff_vals</th>\n",
       "      <td>[Action, Adventure, Avant Garde, Award Winning...</td>\n",
       "      <td>[Adult Cast, Anthropomorphic, CGDCT, Childcare...</td>\n",
       "      <td>[Josei, Kids, Seinen, Shoujo, Shounen]</td>\n",
       "      <td>0.0</td>\n",
       "      <td>[&amp;.Emo, &amp;Flower, .Bloom, .hack//G.U. The World...</td>\n",
       "      <td>0.0</td>\n",
       "    </tr>\n",
       "  </tbody>\n",
       "</table>\n",
       "</div>"
      ],
      "text/plain": [
       "                                                          genres  \\\n",
       "missing_ratio                                           0.047017   \n",
       "num_diff_vals                                                 21   \n",
       "diff_vals      [Action, Adventure, Avant Garde, Award Winning...   \n",
       "\n",
       "                                                          themes  \\\n",
       "missing_ratio                                           0.648462   \n",
       "num_diff_vals                                                 52   \n",
       "diff_vals      [Adult Cast, Anthropomorphic, CGDCT, Childcare...   \n",
       "\n",
       "                                         demographics   authors  \\\n",
       "missing_ratio                                0.598933  0.111828   \n",
       "num_diff_vals                                       5       0.0   \n",
       "diff_vals      [Josei, Kids, Seinen, Shoujo, Shounen]       0.0   \n",
       "\n",
       "                                                  serializations  \\\n",
       "missing_ratio                                           0.389413   \n",
       "num_diff_vals                                               1162   \n",
       "diff_vals      [&.Emo, &Flower, .Bloom, .hack//G.U. The World...   \n",
       "\n",
       "              title_synonyms  \n",
       "missing_ratio       0.513356  \n",
       "num_diff_vals            0.0  \n",
       "diff_vals                0.0  "
      ]
     },
     "execution_count": 21,
     "metadata": {},
     "output_type": "execute_result"
    }
   ],
   "source": [
    "str_arr_col_profiles_df = pd.DataFrame({'genres': [.0] * 3,\n",
    "                                        'themes': [.0] * 3,\n",
    "                                        'demographics': [.0] * 3,\n",
    "                                        'authors': [.0] * 3,\n",
    "                                        'serializations': [.0] * 3,\n",
    "                                        'title_synonyms': [.0] * 3},\n",
    "                                       index=['missing_ratio', 'num_diff_vals', 'diff_vals'], dtype=object)\n",
    "\n",
    "str_arr_col_profiles_df.loc['missing_ratio'] = np.sum(manga_df[str_arr_col_profiles_df.columns].apply(lambda col: col.apply(len)) == 0) / manga_df.shape[0]\n",
    "str_arr_col_profiles_df.loc['diff_vals'][['genres', 'themes', 'demographics', 'serializations']] = \\\n",
    "    manga_df[str_arr_col_profiles_df.columns].apply(np.concatenate)[['genres', 'themes', 'demographics', 'serializations']].apply(np.unique)\n",
    "str_arr_col_profiles_df.loc['num_diff_vals'][['genres', 'themes', 'demographics', 'serializations']] = \\\n",
    "    str_arr_col_profiles_df.loc['diff_vals'][['genres', 'themes', 'demographics', 'serializations']].apply(len)\n",
    "\n",
    "str_arr_col_profiles_df"
   ]
  },
  {
   "cell_type": "markdown",
   "id": "521d9a25",
   "metadata": {},
   "source": [
    "Ta có thể thấy:\n",
    "- Về missing_ratio:\n",
    "    - `themes`, `demographics`, `serializations`, `title_synonyms` bị miss khá nhiều\n",
    "    - `genres`, `authors` là hai cột quan trọng hơn nên ít miss\n",
    "- Về num_diff_vals và diff_vals:\n",
    "    - `genres`, `themes` lần lượt có 21 và 52 loại\n",
    "    - Có 1162 nhà xuất bản (`serializations`)\n",
    "    - Có 5 đối tượng (`demographics`) chính: Josei, Kids, Seisen, Shoujo, Shounen"
   ]
  },
  {
   "cell_type": "markdown",
   "id": "feabfde1",
   "metadata": {},
   "source": [
    "Xét các cột `genres`, `themes`, `demographics`, `serializations`"
   ]
  },
  {
   "cell_type": "markdown",
   "id": "3520da89",
   "metadata": {},
   "source": [
    "**_`genres`_** Romance là thể loại phổ biến nhất ~13.83% (tính theo số lần xuất hiện trong tất cả các list của cột)"
   ]
  },
  {
   "cell_type": "code",
   "execution_count": 22,
   "id": "9c1b5e69",
   "metadata": {},
   "outputs": [
    {
     "data": {
      "text/plain": [
       "('Romance', 13.829311359623308)"
      ]
     },
     "execution_count": 22,
     "metadata": {},
     "output_type": "execute_result"
    }
   ],
   "source": [
    "genres, counts_genres = np.unique(pd.Series(np.concatenate(manga_df['genres'])), return_counts=True)\n",
    "genres[counts_genres.argmax()], counts_genres[counts_genres.argmax()] / np.sum(counts_genres) * 100"
   ]
  },
  {
   "cell_type": "markdown",
   "id": "89f345ce",
   "metadata": {},
   "source": [
    "**_`themes`_** School là chủ đề phổ biến nhất ~35.78% (tính theo số lần xuất hiện trong tất cả các list của cột)"
   ]
  },
  {
   "cell_type": "code",
   "execution_count": 23,
   "id": "96d33e17",
   "metadata": {},
   "outputs": [
    {
     "data": {
      "text/plain": [
       "('School', 35.77756896436002)"
      ]
     },
     "execution_count": 23,
     "metadata": {},
     "output_type": "execute_result"
    }
   ],
   "source": [
    "themes, counts_themes = np.unique(pd.Series(np.concatenate(manga_df['themes'])), return_counts=True)\n",
    "themes[counts_themes.argmax()], counts_themes[counts_themes.argmax()] / np.sum(counts_themes) * 100"
   ]
  },
  {
   "cell_type": "markdown",
   "id": "6f931c21",
   "metadata": {},
   "source": [
    "**_`demographics`_** Shoujo là đối tượng phổ biến nhất ~30.61% (tính theo số lần xuất hiện trong tất cả các list của cột)"
   ]
  },
  {
   "cell_type": "code",
   "execution_count": 24,
   "id": "2a6f835c",
   "metadata": {},
   "outputs": [
    {
     "data": {
      "text/plain": [
       "('Shoujo', 30.609756097560975)"
      ]
     },
     "execution_count": 24,
     "metadata": {},
     "output_type": "execute_result"
    },
    {
     "data": {
      "image/png": "[encoded data removed]",
      "text/plain": [
       "<Figure size 640x480 with 1 Axes>"
      ]
     },
     "metadata": {},
     "output_type": "display_data"
    }
   ],
   "source": [
    "demographics, counts_demographics = np.unique(pd.Series(np.concatenate(manga_df['demographics'])), return_counts=True)\n",
    "\n",
    "plt.pie(counts_demographics, labels=demographics, autopct = '%1.2f%%');\n",
    "\n",
    "demographics[counts_demographics.argmax()], counts_demographics[counts_demographics.argmax()] / np.sum(counts_demographics) * 100"
   ]
  },
  {
   "cell_type": "markdown",
   "id": "b584c831",
   "metadata": {},
   "source": [
    "_Nhìn chung cũng không có gì bất thường với kiểu str array_"
   ]
  }
 ],
 "metadata": {
  "kernelspec": {
   "display_name": "Python 3 (ipykernel)",
   "language": "python",
   "name": "python3"
  },
  "language_info": {
   "codemirror_mode": {
    "name": "ipython",
    "version": 3
   },
   "file_extension": ".py",
   "mimetype": "text/x-python",
   "name": "python",
   "nbconvert_exporter": "python",
   "pygments_lexer": "ipython3",
   "version": "3.8.8"
  }
 },
 "nbformat": 4,
 "nbformat_minor": 5
}
